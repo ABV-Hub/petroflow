{
 "cells": [
  {
   "cell_type": "code",
   "execution_count": 1,
   "metadata": {},
   "outputs": [],
   "source": [
    "import os\n",
    "import sys\n",
    "import numpy as np\n",
    "import pandas as pd\n",
    "import glob\n",
    "import matplotlib.pyplot as plt\n",
    "from collections import OrderedDict\n",
    "#import shutil\n",
    "\n",
    "sys.path.insert(0, os.path.join(\"..\", \"..\", \"..\"))\n",
    "\n",
    "from petroflow import Well, WellBatch, WS, WellDataset\n",
    "from petroflow.batchflow import L, V"
   ]
  },
  {
   "cell_type": "code",
   "execution_count": 2,
   "metadata": {},
   "outputs": [],
   "source": [
    "DATASET_PATH = \"/notebooks/data/september_dataset/core_photo/*/*\"\n",
    "DEFAULT_LABEL = 'Другое'\n",
    "THRESHOLD = 80"
   ]
  },
  {
   "cell_type": "code",
   "execution_count": 3,
   "metadata": {},
   "outputs": [],
   "source": [
    "classes = dict()\n",
    "\n",
    "def update_coverage_stat(core_lithology, classes):\n",
    "    for (depth_from, depth_to), formation in core_lithology.iterrows():\n",
    "        if formation.FORMATION in classes:\n",
    "            classes[formation.FORMATION] += depth_to - depth_from\n",
    "        else:\n",
    "            classes[formation.FORMATION] = depth_to - depth_from\n",
    "    return classes"
   ]
  },
  {
   "cell_type": "code",
   "execution_count": 4,
   "metadata": {},
   "outputs": [],
   "source": [
    "ds = WellDataset(path=DATASET_PATH, dirs=True, sort=True)"
   ]
  },
  {
   "cell_type": "code",
   "execution_count": 5,
   "metadata": {},
   "outputs": [
    {
     "data": {
      "text/plain": [
       "<petroflow.batchflow.batchflow.pipeline.Pipeline at 0x7f09ffe25fd0>"
      ]
     },
     "execution_count": 5,
     "metadata": {},
     "output_type": "execute_result"
    }
   ],
   "source": [
    "ppl = (ds.p\n",
    "     .init_variable('classes', default=dict())\n",
    "     .has_attr('core_lithology')\n",
    "     .create_segments('samples')\n",
    "     .update_coverage_stat(L(pd.concat)(WS('core_lithology').ravel()), V('classes'), save_to=V('classes'))\n",
    ")\n",
    "\n",
    "ppl.run(10, n_epochs=1)"
   ]
  },
  {
   "cell_type": "code",
   "execution_count": 11,
   "metadata": {},
   "outputs": [],
   "source": [
    "filtered_dict = OrderedDict({DEFAULT_LABEL: 0})\n",
    "mapping = dict()\n",
    "\n",
    "for key, value in ppl.v('classes').items():\n",
    "    if value > THRESHOLD:\n",
    "        filtered_dict[key] = value\n",
    "        mapping[key] = key\n",
    "    else:\n",
    "        filtered_dict[DEFAULT_LABEL] += value\n",
    "        mapping[key] = DEFAULT_LABEL \n",
    "\n",
    "filtered_dict = OrderedDict(sorted(filtered_dict.items(), key=lambda x: x[1]))"
   ]
  },
  {
   "cell_type": "code",
   "execution_count": 12,
   "metadata": {},
   "outputs": [
    {
     "data": {
      "text/plain": [
       "<BarContainer object of 20 artists>"
      ]
     },
     "execution_count": 12,
     "metadata": {},
     "output_type": "execute_result"
    },
    {
     "data": {
      "image/png": "[encoded data removed]",
      "text/plain": [
       "<Figure size 432x288 with 1 Axes>"
      ]
     },
     "metadata": {
      "needs_background": "light"
     },
     "output_type": "display_data"
    }
   ],
   "source": [
    "plt.barh(list(filtered_dict.keys()), list(filtered_dict.values()))"
   ]
  },
  {
   "cell_type": "code",
   "execution_count": 13,
   "metadata": {},
   "outputs": [
    {
     "name": "stdout",
     "output_type": "stream",
     "text": [
      "Песчаник глинистый                      : 75.46 m\n",
      "Фундамент                               : 71.23 m\n",
      "Переслаивание песчаника и глины         : 63.10 m\n",
      "Кремнисто-глинистая порода              : 63.04 m\n",
      "Доломит глинистый                       : 51.09 m\n",
      "не опр                                  : 46.61 m\n",
      "Доломит трещиноватый                    : 46.14 m\n",
      "Известняк доломитовый                   : 38.55 m\n",
      "Аргиллит сидеритизированный             : 34.84 m\n",
      "Переслаивание алевролита и глины        : 34.63 m\n",
      "Аргиллит битуминозный                   : 30.71 m\n",
      "Глинисто-карбонатная порода             : 28.63 m\n",
      "Ангидрит-доломитовая порода             : 24.09 m\n",
      "Доломит битуминозный                    : 22.45 m\n",
      "Аргиллит известковистый или известковый : 19.14 m\n",
      "Кора выветривания                       : 17.88 m\n",
      "Песчаник гравийный                      : 13.16 m\n",
      "Конгломерат                             : 12.26 m\n",
      "Гранит                                  : 10.83 m\n",
      "Галит                                   :  8.33 m\n",
      "Алевролит глинистый известковый         :  8.22 m\n",
      "Глинисто-кремнистая порода              :  7.54 m\n",
      "Песчаник доломитовый                    :  5.50 m\n",
      "Известняк глинистый                     :  4.94 m\n",
      "Гравелит                                :  4.54 m\n",
      "Доломит ангидритизированный             :  4.15 m\n",
      "Гранитогнейс                            :  2.95 m\n",
      "Ангидрит                                :  1.84 m\n",
      "Кварцит                                 :  1.47 m\n",
      "Брекчия                                 :  1.10 m\n",
      "Мергель                                 :  0.85 m\n",
      "Переслаивание аргиллита и угля          :  0.73 m\n",
      "Кремнистая порода                       :  0.54 m\n",
      "Боксит                                  :  0.35 m\n",
      "Песчано-глинистая порода                :  0.15 m\n",
      "Брекчия известковистая                  :  0.07 m\n"
     ]
    }
   ],
   "source": [
    "for key, value in OrderedDict(sorted(mapping.items(), reverse=True, key=lambda x: ppl.v('classes')[x[0]])).items():\n",
    "    if value == DEFAULT_LABEL:\n",
    "        print('{:40}: {:5.2f} m'.format(key, ppl.v('classes')[key]))"
   ]
  }
 ],
 "metadata": {
  "kernelspec": {
   "display_name": "Python 3",
   "language": "python",
   "name": "python3"
  },
  "language_info": {
   "codemirror_mode": {
    "name": "ipython",
    "version": 3
   },
   "file_extension": ".py",
   "mimetype": "text/x-python",
   "name": "python",
   "nbconvert_exporter": "python",
   "pygments_lexer": "ipython3",
   "version": "3.5.2"
  }
 },
 "nbformat": 4,
 "nbformat_minor": 4
}
