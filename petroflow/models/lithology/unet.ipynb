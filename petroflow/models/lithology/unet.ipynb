{
 "cells": [
  {
   "cell_type": "code",
   "execution_count": 1,
   "metadata": {},
   "outputs": [],
   "source": [
    "import os\n",
    "import sys\n",
    "import numpy as np\n",
    "import pandas as pd\n",
    "import glob\n",
    "import matplotlib.pyplot as plt\n",
    "import shutil\n",
    "\n",
    "sys.path.insert(0, os.path.join(\"..\", \"..\", \"..\"))\n",
    "\n",
    "from petroflow import Well, WellBatch, WS, WellDataset\n",
    "from petroflow.batchflow.models.torch import UNet\n",
    "from petroflow.batchflow import Dataset, DatasetIndex, FilesIndex, Pipeline, V, B, action, inbatch_parallel, I, W, F, L, ImagesBatch, R, P"
   ]
  },
  {
   "cell_type": "code",
   "execution_count": 2,
   "metadata": {},
   "outputs": [],
   "source": [
    "BATCH_SIZE = 16\n",
    "N_CROPS = 4\n",
    "N_EPOCH = 500\n",
    "LENGTH = 0.1\n",
    "SHAPE = (3, int(2500 * LENGTH), 250)"
   ]
  },
  {
   "cell_type": "code",
   "execution_count": 3,
   "metadata": {},
   "outputs": [],
   "source": [
    "import torch\n",
    "from torch import nn\n",
    "import torch.nn.functional as F\n",
    "\n",
    "class MyWellBatch(WellBatch):\n",
    "    def __init__(self, *args, **kwargs):\n",
    "        super().__init__(*args, pixels_per_cm=25, **kwargs)\n",
    "    \n",
    "    @action\n",
    "    def create_images_batch(self, core_dl, core_uv, targets):\n",
    "        index = DatasetIndex(len(core_dl))\n",
    "        batch = ImagesBatch(index)\n",
    "        batch = batch.add_components(('core_dl', 'core_uv', 'targets'),\n",
    "                                     (np.array(core_dl).astype(np.uint8),\n",
    "                                      np.array(core_uv).astype(np.uint8),\n",
    "                                      np.array(targets)))\n",
    "        return batch"
   ]
  },
  {
   "cell_type": "code",
   "execution_count": 4,
   "metadata": {},
   "outputs": [
    {
     "name": "stderr",
     "output_type": "stream",
     "text": [
      " 88%|████████▊ | 30/34 [00:00<00:00, 75.46it/s]\n"
     ]
    }
   ],
   "source": [
    "index = FilesIndex(path='/notebooks/data/september_dataset/core_photo/*/*', dirs=True)\n",
    "ds = Dataset(index=index, batch_class=MyWellBatch)\n",
    "\n",
    "filter_ppl = (ds.p\n",
    "              .init_variable('wells', default=[])\n",
    "              .has_attr('core_lithology')\n",
    "              .update(V('wells', mode='e'), B().indices)\n",
    "              .run(10, n_epochs=1, shuffle=False, bar=True))\n",
    "\n",
    "filtered_index = index.create_subset(filter_ppl.v('wells'))\n",
    "ds = Dataset(index=filtered_index, batch_class=MyWellBatch)\n",
    "ds.split()"
   ]
  },
  {
   "cell_type": "code",
   "execution_count": 5,
   "metadata": {},
   "outputs": [
    {
     "data": {
      "text/plain": [
       "<petroflow.batchflow.batchflow.once_pipeline.OncePipeline at 0x7fca49af3588>"
      ]
     },
     "execution_count": 5,
     "metadata": {},
     "output_type": "execute_result"
    }
   ],
   "source": [
    "classes_ppl = (ds.p\n",
    "       .init_variable('classes', default=[])\n",
    "       .update(V('classes', mode='a'), WS('core_lithology')['FORMATION'].values.ravel())\n",
    ")\n",
    "\n",
    "(classes_ppl.after\n",
    "    .add_namespace(np)\n",
    "    .concatenate(L(sum)(V('classes'), []), save_to=V('classes', mode='w'))\n",
    "    .unique(V('classes'), save_to=V('classes'))\n",
    ")"
   ]
  },
  {
   "cell_type": "code",
   "execution_count": 6,
   "metadata": {},
   "outputs": [
    {
     "data": {
      "text/plain": [
       "<petroflow.batchflow.batchflow.pipeline.Pipeline at 0x7fca49af3ba8>"
      ]
     },
     "execution_count": 6,
     "metadata": {},
     "output_type": "execute_result"
    }
   ],
   "source": [
    "classes_ppl.run(BATCH_SIZE)"
   ]
  },
  {
   "cell_type": "code",
   "execution_count": 7,
   "metadata": {},
   "outputs": [],
   "source": [
    "reverse_mapping = dict(enumerate(classes_ppl.v('classes')))\n",
    "mapping = {value: key for key, value in reverse_mapping.items()}"
   ]
  },
  {
   "cell_type": "code",
   "execution_count": 8,
   "metadata": {},
   "outputs": [],
   "source": [
    "crop_template = (Pipeline()\n",
    "       .add_namespace(np)\n",
    "       .create_segments(src='samples', connected=True)\n",
    "       .create_segments(src='core_lithology', connected=True)\n",
    "       .random_crop(length=LENGTH, n_crops=N_CROPS)\n",
    "       .create_mask(src='core_lithology', column='FORMATION', mapping=mapping, mode='core')\n",
    "       .update(B('core'), WS('core_dl').ravel())\n",
    "       .update(B('masks'), WS('mask').ravel())\n",
    "       .array(B('core'), save_to=B('core'))\n",
    "       .array(B('masks'), save_to=B('masks'))\n",
    "       .transpose(B('core'), axes=(0, 3, 1, 2), save_to=B('core'))\n",
    ")"
   ]
  },
  {
   "cell_type": "code",
   "execution_count": 9,
   "metadata": {},
   "outputs": [],
   "source": [
    "# batch = ppl.next_batch(BATCH_SIZE)"
   ]
  },
  {
   "cell_type": "code",
   "execution_count": 10,
   "metadata": {},
   "outputs": [],
   "source": [
    "# def add_lithology_position(well, segment=0):\n",
    "#     segment = well.iter_level()[segment]\n",
    "#     core_lithology = segment.core_lithology\n",
    "#     image = segment.core_dl\n",
    "#     factor = image.shape[0] / segment.length\n",
    "#     positions = []\n",
    "#     for (depth_from, depth_to), formation in core_lithology.iterrows():\n",
    "#         positions.append(\n",
    "#             (max(0, depth_from - segment.depth_from) * factor,\n",
    "#              min(segment.length, depth_to - segment.depth_from) * factor)\n",
    "#         )\n",
    "#     return positions"
   ]
  },
  {
   "cell_type": "code",
   "execution_count": 11,
   "metadata": {},
   "outputs": [],
   "source": [
    "# for well in batch.wells:\n",
    "#     for i, segment in enumerate(well.iter_level()):\n",
    "#         if len(segment.core_lithology) > 1:\n",
    "#             plt.figure(figsize=(4, 20))\n",
    "#             print(segment.core_lithology)\n",
    "#             img = segment.core_dl / 255\n",
    "#             mask = segment.mask\n",
    "#             lithology = segment.core_lithology\n",
    "#             plt.imshow(img)\n",
    "#             for a, b in add_lithology_position(well, segment=i):\n",
    "#                 plt.hlines(a, 0, img.shape[1], colors='r')\n",
    "#                 plt.hlines(b, 0, img.shape[1], colors='r')\n",
    "#             plt.show()\n",
    "#             break"
   ]
  },
  {
   "cell_type": "code",
   "execution_count": 12,
   "metadata": {},
   "outputs": [],
   "source": [
    "model_config = {'initial_block/inputs': 'images',\n",
    "                'inputs/images/shape': SHAPE,\n",
    "                'inputs/masks/shape': (1, 1, SHAPE[1]),\n",
    "                'body/filters': ((2 ** np.arange(4)) * 4).tolist(),\n",
    "                'head': {\n",
    "                    'num_classes': len(mapping),\n",
    "                    'layout': 'c',\n",
    "                    'kernel_size': (1, SHAPE[2]),\n",
    "                    'padding': 'valid'\n",
    "                },\n",
    "                'optimizer': 'Adam',\n",
    "                'device': 'gpu:7',\n",
    "                'output': 'proba',\n",
    "                'loss': 'ce'\n",
    "}\n",
    "        \n",
    "train_template = (Pipeline()\n",
    "    .init_variable('loss_history', default=[])\n",
    "    .init_model('dynamic', UNet, 'model', model_config)\n",
    "    .train_model('model', B('core'), B('masks').reshape(-1, SHAPE[1], 1), fetches=['loss', 'proba'],\n",
    "                 save_to=[V('loss_history', mode='a'), B('proba')])\n",
    "    \n",
    ")\n",
    "\n",
    "train_ppl = (crop_template + train_template) << ds.train"
   ]
  },
  {
   "cell_type": "code",
   "execution_count": 13,
   "metadata": {},
   "outputs": [
    {
     "ename": "NameError",
     "evalue": "name 'N_EPOCHS' is not defined",
     "output_type": "error",
     "traceback": [
      "\u001b[0;31m---------------------------------------------------------------------------\u001b[0m",
      "\u001b[0;31mNameError\u001b[0m                                 Traceback (most recent call last)",
      "\u001b[0;32m<ipython-input-13-e63e8f2af66f>\u001b[0m in \u001b[0;36m<module>\u001b[0;34m\u001b[0m\n\u001b[0;32m----> 1\u001b[0;31m \u001b[0mtrain_ppl\u001b[0m\u001b[0;34m.\u001b[0m\u001b[0mrun\u001b[0m\u001b[0;34m(\u001b[0m\u001b[0mBATCH_SIZE\u001b[0m\u001b[0;34m,\u001b[0m \u001b[0mn_epochs\u001b[0m\u001b[0;34m=\u001b[0m\u001b[0mN_EPOCHS\u001b[0m\u001b[0;34m,\u001b[0m \u001b[0mbar\u001b[0m\u001b[0;34m=\u001b[0m\u001b[0;32mTrue\u001b[0m\u001b[0;34m,\u001b[0m \u001b[0mbar_desc\u001b[0m\u001b[0;34m=\u001b[0m\u001b[0mW\u001b[0m\u001b[0;34m(\u001b[0m\u001b[0mV\u001b[0m\u001b[0;34m(\u001b[0m\u001b[0;34m'loss_history'\u001b[0m\u001b[0;34m)\u001b[0m\u001b[0;34m[\u001b[0m\u001b[0;34m-\u001b[0m\u001b[0;36m1\u001b[0m\u001b[0;34m]\u001b[0m\u001b[0;34m)\u001b[0m\u001b[0;34m)\u001b[0m\u001b[0;34m\u001b[0m\u001b[0;34m\u001b[0m\u001b[0m\n\u001b[0m",
      "\u001b[0;31mNameError\u001b[0m: name 'N_EPOCHS' is not defined"
     ]
    }
   ],
   "source": [
    "train_ppl.run(BATCH_SIZE, n_epochs=N_EPOCHS, bar=True, bar_desc=W(V('loss_history')[-1]))"
   ]
  },
  {
   "cell_type": "code",
   "execution_count": null,
   "metadata": {},
   "outputs": [],
   "source": [
    "train_ppl.v('loss_history')"
   ]
  },
  {
   "cell_type": "code",
   "execution_count": null,
   "metadata": {},
   "outputs": [],
   "source": [
    "plt.plot(batch.proba[0].argmax(axis=0))\n",
    "plt.plot(batch.masks[0])"
   ]
  },
  {
   "cell_type": "code",
   "execution_count": null,
   "metadata": {},
   "outputs": [],
   "source": []
  }
 ],
 "metadata": {
  "kernelspec": {
   "display_name": "Python 3",
   "language": "python",
   "name": "python3"
  },
  "language_info": {
   "codemirror_mode": {
    "name": "ipython",
    "version": 3
   },
   "file_extension": ".py",
   "mimetype": "text/x-python",
   "name": "python",
   "nbconvert_exporter": "python",
   "pygments_lexer": "ipython3",
   "version": "3.6.9"
  }
 },
 "nbformat": 4,
 "nbformat_minor": 4
}
