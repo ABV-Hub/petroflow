{
 "cells": [
  {
   "cell_type": "markdown",
   "metadata": {},
   "source": [
    "# Electrofacies prediction model"
   ]
  },
  {
   "cell_type": "markdown",
   "metadata": {},
   "source": [
    "* [Problem description](#Problem-description)\n",
    "* [Markup filtration](#Markup-filtration)\n",
    "* [Dataset creation](#Dataset-creation)\n",
    "* [Model architecture](#Model-architecture)\n",
    "* [Model training](#Model-training)\n",
    "* [Inference](#Inference)\n",
    "* [Metrics evaluation and results visualization](#Metrics-evaluation-and-results-visualization)"
   ]
  },
  {
   "cell_type": "markdown",
   "metadata": {},
   "source": [
    "___\n",
    "## Problem description"
   ]
  },
  {
   "cell_type": "markdown",
   "metadata": {},
   "source": [
    "Predict electrofacies based on Spontaneous well log."
   ]
  },
  {
   "cell_type": "markdown",
   "metadata": {},
   "source": [
    "Goal: predict pattern of elecrofacies changes using only SP log. Well data and markup must be pre-processed before training the model.\n",
    "\n",
    "Tables of electrofacies and their indices, which will be used in this notebook:"
   ]
  },
  {
   "cell_type": "markdown",
   "metadata": {},
   "source": [
    "\n",
    "|    Index   | Facie                                    |\n",
    "|------------|------------------------------------------|\n",
    "| 0          | Shallow marine, шельфовые, баровые       |\n",
    "| 1          | Краевые части песчаных тел (баров)       |\n",
    "| 2          | Лагунные и склоновые глинистые отложения |\n",
    "| 3          | Промоины разрывных течений               |\n",
    "| 4          | Transition zone                          |\n",
    "| 5          | Склоновые врезы                          |"
   ]
  },
  {
   "cell_type": "code",
   "execution_count": 1,
   "metadata": {},
   "outputs": [],
   "source": [
    "import os\n",
    "import sys\n",
    "\n",
    "import pandas as pd\n",
    "import numpy as np\n",
    "import matplotlib.pyplot as plt\n",
    "import torch\n",
    "from sklearn.metrics import classification_report\n",
    "\n",
    "sys.path.append(\"../../../\")\n",
    "from petroflow import WellDataset, WS, Well\n",
    "from petroflow.batchflow import Pipeline, B, V\n",
    "from petroflow.batchflow.models.torch import UNet\n",
    "from petroflow.batchflow.models.torch.losses import CrossEntropyLoss\n",
    "\n",
    "from pylab import rcParams\n",
    "rcParams['figure.figsize'] = 15, 7\n",
    "pd.options.mode.chained_assignment = None"
   ]
  },
  {
   "cell_type": "code",
   "execution_count": 2,
   "metadata": {},
   "outputs": [
    {
     "name": "stdout",
     "output_type": "stream",
     "text": [
      "env: CUDA_VISIBLE_DEVICES=4\n"
     ]
    }
   ],
   "source": [
    "%env CUDA_VISIBLE_DEVICES=4"
   ]
  },
  {
   "cell_type": "code",
   "execution_count": 3,
   "metadata": {},
   "outputs": [],
   "source": [
    "path = 'path/to/facies_dataset/'\n",
    "markup_path = 'path/to/markup1.xlsx'\n",
    "markup2_path = 'path/to/markup2.xlsx'"
   ]
  },
  {
   "cell_type": "markdown",
   "metadata": {},
   "source": [
    "Load 2 markup files. One contain top and bottom of facies mask interval, another only bottom. \n",
    "One row corresponding one well with markup of one interval of one electrofacie. \n",
    "\n",
    "Shift indices of facies  from [1, n]  to [0, n-1]."
   ]
  },
  {
   "cell_type": "code",
   "execution_count": 4,
   "metadata": {},
   "outputs": [],
   "source": [
    "markup = pd.read_excel(markup_path, index_col=0)\n",
    "markup.index = markup.index.map(str)\n",
    "markup['facies code'] -= 1"
   ]
  },
  {
   "cell_type": "code",
   "execution_count": 5,
   "metadata": {},
   "outputs": [],
   "source": [
    "markup2 = pd.read_excel(markup2_path, names=['Well', 'кровля bv08', 'facies code'], index_col=0)\n",
    "markup2.index = markup2.index.map(str)\n",
    "markup2['facies code'] -= 1"
   ]
  },
  {
   "cell_type": "code",
   "execution_count": 6,
   "metadata": {},
   "outputs": [
    {
     "data": {
      "text/plain": [
       "0    666\n",
       "3    202\n",
       "1    182\n",
       "4     94\n",
       "2     31\n",
       "5      6\n",
       "8      1\n",
       "6      1\n",
       "Name: facies code, dtype: int64"
      ]
     },
     "execution_count": 6,
     "metadata": {},
     "output_type": "execute_result"
    }
   ],
   "source": [
    "markup2['facies code'].value_counts()"
   ]
  },
  {
   "cell_type": "code",
   "execution_count": 7,
   "metadata": {},
   "outputs": [
    {
     "data": {
      "text/plain": [
       "0    751\n",
       "4    266\n",
       "1    208\n",
       "3    174\n",
       "2    115\n",
       "5     28\n",
       "Name: facies code, dtype: int64"
      ]
     },
     "execution_count": 7,
     "metadata": {},
     "output_type": "execute_result"
    }
   ],
   "source": [
    "markup['facies code'].value_counts()"
   ]
  },
  {
   "cell_type": "markdown",
   "metadata": {},
   "source": [
    "___\n",
    "## Markup filtration"
   ]
  },
  {
   "cell_type": "markdown",
   "metadata": {},
   "source": [
    "Define functions to filter markup data:\n",
    "- `add_bottom` - add bottom column of facies mask in **pd.DataFrame**. Bottom it is last index with not nan value of SP log (if well in markup does't exist or SP log of well doesn't exist then drop that markup);\n",
    "- `del_markup_wo_wells` - drop rows of **pd.DataFrame** corresponding missing wells;\n",
    "- `del_markup_wo_logs` -  drop rows of **pd.DataFrame** corresponding wells with missing SP log;\n",
    "- `del_outward_markup` - drop rows of **pd.DataFrame** corresponding mask which beyond outside top or bottom of well."
   ]
  },
  {
   "cell_type": "code",
   "execution_count": 8,
   "metadata": {},
   "outputs": [],
   "source": [
    "def add_bottom(marking):\n",
    "    list_bottoms = []\n",
    "    for well in marking.index:\n",
    "        try:\n",
    "            w = Well(path + well)\n",
    "            bottom = w.iter_level()[0].logs['SP'].last_valid_index()\n",
    "            list_bottoms.append(bottom)\n",
    "        except (FileNotFoundError, KeyError):\n",
    "            list_bottoms.append(np.nan)\n",
    "    marking.insert(1, 'подошва bv08', list_bottoms) \n",
    "    marking = marking[marking['подошва bv08'].isna() == False]\n",
    "    return marking"
   ]
  },
  {
   "cell_type": "code",
   "execution_count": 9,
   "metadata": {},
   "outputs": [],
   "source": [
    "def del_markup_wo_wells(marking):\n",
    "    existing_wells = set(os.listdir(path))\n",
    "    markup_wells = set(marking.index)\n",
    "    marking = marking.loc[existing_wells & markup_wells]\n",
    "    return marking"
   ]
  },
  {
   "cell_type": "code",
   "execution_count": 10,
   "metadata": {},
   "outputs": [],
   "source": [
    "def del_markup_wo_logs(marking):\n",
    "    for well in marking.index:\n",
    "        w = Well(path+well)\n",
    "        try:\n",
    "            w.segments[0].logs['SP']\n",
    "        except KeyError:\n",
    "            marking.drop(well, inplace=True)\n",
    "    return marking"
   ]
  },
  {
   "cell_type": "code",
   "execution_count": 11,
   "metadata": {},
   "outputs": [],
   "source": [
    "def del_outward_markup(marking):\n",
    "    for well in marking.index:\n",
    "        w = Well(path + well)\n",
    "        markup_w = marking.loc[well]\n",
    "        start, stop = float(markup_w['кровля bv08']),  float(markup_w['подошва bv08'])\n",
    "        if start < w.depth_from or stop > w.depth_to:\n",
    "            marking.drop(well, inplace=True)\n",
    "    return marking"
   ]
  },
  {
   "cell_type": "markdown",
   "metadata": {},
   "source": [
    "Leave markup only for existing facies. Apply filtering markup functions and concatenate 2 markup **pd.DataFrame**."
   ]
  },
  {
   "cell_type": "code",
   "execution_count": 12,
   "metadata": {},
   "outputs": [],
   "source": [
    "markup2 = markup2[markup2['facies code'] < 6]\n",
    "markup2 = add_bottom(markup2)\n",
    "markup = del_markup_wo_wells(markup)\n",
    "markup = del_markup_wo_logs(markup)\n",
    "markup = pd.concat([markup2, markup])\n",
    "markup = del_outward_markup(markup)"
   ]
  },
  {
   "cell_type": "markdown",
   "metadata": {},
   "source": [
    "Now we have clear markup with 6 facies."
   ]
  },
  {
   "cell_type": "markdown",
   "metadata": {},
   "source": [
    "---\n",
    "## Dataset creation"
   ]
  },
  {
   "cell_type": "code",
   "execution_count": 13,
   "metadata": {},
   "outputs": [],
   "source": [
    "DATASET_PATH = [path + well for well in markup.index]"
   ]
  },
  {
   "cell_type": "code",
   "execution_count": 14,
   "metadata": {},
   "outputs": [],
   "source": [
    "ds = WellDataset(path=DATASET_PATH, dirs=True, sort=True)"
   ]
  },
  {
   "cell_type": "markdown",
   "metadata": {},
   "source": [
    "Define class `FilteringUtils` with functions to preprocess dataset. Functions:\n",
    " - `add_mask_to_logs` -  add column 'MASK' to `WellSegemnt.logs` with mapped mask from markup;\n",
    " - `mask_creator` -  create attribute `WellSegment.mask` with value from `WellSegment.logs['MASK']`;\n",
    " - `single_crop` - do one crop with length `length` from `WellSegemnt.depth_from`."
   ]
  },
  {
   "cell_type": "code",
   "execution_count": 15,
   "metadata": {},
   "outputs": [],
   "source": [
    "class FilteringUtils:\n",
    "    @classmethod\n",
    "    def add_mask_to_logs(self, batch, mapping, tol=1e-3):\n",
    "        for well in batch.wells:\n",
    "            for segment in well.iter_level():\n",
    "                name = segment.name\n",
    "                segment.logs['MASK'] = np.nan\n",
    "                mask_from, mask_to, facie  = markup.loc[name]['кровля bv08'], markup.loc[name]['подошва bv08'], markup.loc[name]['facies code']\n",
    "                segment._logs['MASK'][mask_from-tol:mask_to+tol] = mapping[facie]\n",
    "                \n",
    "    @classmethod            \n",
    "    def mask_creator(self, batch, column='MASK', mask_attr='mask'):\n",
    "        for well in batch.wells:\n",
    "            for segment in well.iter_level():\n",
    "                setattr(segment, mask_attr, segment.logs['MASK'].to_numpy())\n",
    "                \n",
    "    @classmethod \n",
    "    def single_crop(self, batch, length):\n",
    "        for well in batch.wells:\n",
    "            well.segments = [segment[segment.depth_from:segment.depth_from+length] for segment in well.iter_level()]"
   ]
  },
  {
   "cell_type": "markdown",
   "metadata": {},
   "source": [
    "Define `CROP_SIZE=15` meters because pattern of electrofacies changes consist in this crop. And we want pred\n",
    "\n",
    "Examples of 2, 4, 5 classes are few. Define `mapping` to combine 2, 4, 5 classes into 2 сlass to get more balanced dataset.\n",
    "\n",
    "Define `N_CLASSES` to further define model configuration and plot result graphics."
   ]
  },
  {
   "cell_type": "code",
   "execution_count": 16,
   "metadata": {},
   "outputs": [],
   "source": [
    "CROP_SIZE = 15\n",
    "mapping = {0: 0, \n",
    "           1: 1, \n",
    "           2: 2, \n",
    "           3: 3, \n",
    "           4: 2, \n",
    "           5: 2}\n",
    "N_CLASSES = len(set(mapping.values()))"
   ]
  },
  {
   "cell_type": "markdown",
   "metadata": {},
   "source": [
    "Dataset filtering:"
   ]
  },
  {
   "cell_type": "code",
   "execution_count": 17,
   "metadata": {},
   "outputs": [],
   "source": [
    "filtering_pipeline = (Pipeline()\n",
    "            .add_namespace(FilteringUtils)\n",
    "            .keep_logs(\"SP\")\n",
    "            .add_mask_to_logs(B(), mapping)\n",
    "            .drop_nans(['SP', 'MASK'])\n",
    "            .drop_short_segments(CROP_SIZE)\n",
    "            .single_crop(B(), CROP_SIZE)\n",
    "            .mask_creator(B())\n",
    "            .keep_logs('SP')) << ds\n",
    "\n",
    "filtered_batch = filtering_pipeline.next_batch(len(ds))"
   ]
  },
  {
   "cell_type": "markdown",
   "metadata": {},
   "source": [
    "SP log percentile (1 and 99) are calculated for further scaling:"
   ]
  },
  {
   "cell_type": "code",
   "execution_count": 18,
   "metadata": {},
   "outputs": [
    {
     "data": {
      "text/plain": [
       "(15.242970000000001, 229.94)"
      ]
     },
     "execution_count": 18,
     "metadata": {},
     "output_type": "execute_result"
    }
   ],
   "source": [
    "train_logs = pd.concat([seg.logs['SP'] for well in filtered_batch._data[0] for seg in well.iter_level()])\n",
    "p1 = train_logs.quantile(.01)\n",
    "p99 = train_logs.quantile(.99)\n",
    "p1, p99"
   ]
  },
  {
   "cell_type": "markdown",
   "metadata": {},
   "source": [
    "Define function for building `WellDataset` from loaded data of batch."
   ]
  },
  {
   "cell_type": "code",
   "execution_count": 19,
   "metadata": {},
   "outputs": [],
   "source": [
    "def build_dataset(batch):\n",
    "    preloaded = ({k: v for k, v in zip(batch.indices, batch.wells)},)\n",
    "    ds = WellDataset(index=batch.index, preloaded=preloaded)\n",
    "    return ds"
   ]
  },
  {
   "cell_type": "markdown",
   "metadata": {},
   "source": [
    "Scale dataset values to range between zero and one. Scale 1 percentile to 0 and 99 percentile to 1. Values not in range 1-99 percentiles are clipped."
   ]
  },
  {
   "cell_type": "code",
   "execution_count": 20,
   "metadata": {},
   "outputs": [],
   "source": [
    "filtered_ds = build_dataset(filtered_batch)\n",
    "\n",
    "scaling_pipeline = Pipeline().norm_min_max(p1, p99) << filtered_ds\n",
    "preprocessed_batch = scaling_pipeline.next_batch(len(filtered_ds))"
   ]
  },
  {
   "cell_type": "markdown",
   "metadata": {},
   "source": [
    "Filtered and scaled dataset is split into training and testing subsets with an 80:20 ratio."
   ]
  },
  {
   "cell_type": "code",
   "execution_count": 21,
   "metadata": {},
   "outputs": [
    {
     "name": "stdout",
     "output_type": "stream",
     "text": [
      "The number of wells in the train dataset: 1555\n",
      "The number of wells in the test dataset: 389\n"
     ]
    }
   ],
   "source": [
    "preprocessed_ds = build_dataset(preprocessed_batch)\n",
    "preprocessed_ds.split([0.8, 0.2])\n",
    "\n",
    "print(\"The number of wells in the train dataset:\", len(preprocessed_ds.train))\n",
    "print(\"The number of wells in the test dataset:\", len(preprocessed_ds.test))"
   ]
  },
  {
   "cell_type": "markdown",
   "metadata": {},
   "source": [
    "---\n",
    "\n",
    "## Model architecture"
   ]
  },
  {
   "cell_type": "markdown",
   "metadata": {},
   "source": [
    "UNet model is used to predict formation porosity (https://analysiscenter.github.io/batchflow/api/batchflow.models.torch.unet.html).\n",
    "\n",
    "Model configuration:\n",
    "* input shape - [1, 150] (15 meters of SP log)\n",
    "* output shape - [1, 150] - predicted facies indices mask \n",
    "* the number of filters in encoder and corresponding decoder blocks - [32, 64, 128, 256]\n",
    "* each encoder and decoder block has \"cna cna\" layout with a kernel size of 3 and a ReLU activation\n",
    "* downsampling in the encoder is performed by a max pooling operation with a kernel size and a stride of 2\n",
    "* upsampling in the decoder is performed by a transposed convolution with a kernel size of 4 and a stride of 2, followed by batch normalization and a ReLU activation.\n",
    "\n",
    "Adam optimizer with default parameters is used for model training. Weighted cross entropy is used as a loss function. Loss function classes weights -  [1.3, 5, 4, 4].\n",
    "\n",
    "Model configuration specification:"
   ]
  },
  {
   "cell_type": "code",
   "execution_count": 22,
   "metadata": {},
   "outputs": [],
   "source": [
    "model_config = {\n",
    "    \"initial_block/inputs\": \"images\",\n",
    "    \"head/num_classes\": N_CLASSES,\n",
    "    \"inputs\": dict(images={\"shape\": (1, CROP_SIZE * 10)}, \n",
    "                   target={\"shape\": (1, CROP_SIZE * 10)}),\n",
    "    \"body/filters\": [32, 64, 128, 256],\n",
    "    \"body/encoder\": dict(layout=\"cnacna\", kernel_size=3),\n",
    "    \"body/decoder\": dict(layout=\"cnacna\", kernel_size=3),\n",
    "    \"body/upsample\": dict(layout=\"tna\", kernel_size=2, strides=2),\n",
    "    \"head\": dict(layout=\"c\"),\n",
    "    \"loss\": {'name': CrossEntropyLoss, \n",
    "             'weight': torch.Tensor([1.3, 5, 4, 4])},\n",
    "    \"optimizer\": \"Adam\",\n",
    "    \"output\": 'labels',\n",
    "    'device': 'gpu:0'\n",
    "}"
   ]
  },
  {
   "cell_type": "markdown",
   "metadata": {},
   "source": [
    "## Model training"
   ]
  },
  {
   "cell_type": "markdown",
   "metadata": {},
   "source": [
    "The model is trained for 1000 epochs with a batch size of 50."
   ]
  },
  {
   "cell_type": "code",
   "execution_count": 23,
   "metadata": {},
   "outputs": [],
   "source": [
    "BATCH_SIZE = 50\n",
    "N_EPOCHS = 1000"
   ]
  },
  {
   "cell_type": "markdown",
   "metadata": {},
   "source": [
    "Training pipeline specification:"
   ]
  },
  {
   "cell_type": "code",
   "execution_count": 24,
   "metadata": {},
   "outputs": [],
   "source": [
    "template_train = (Pipeline()\n",
    "            .add_namespace(np)\n",
    "            .update(B(\"mask\"), WS(\"mask\").ravel())\n",
    "            .stack(B(\"mask\"), save_to=B(\"mask\"))        \n",
    "            .update(B(\"logs\"), WS(\"logs\").ravel())\n",
    "            .stack(B(\"logs\"), save_to=B(\"logs\"))\n",
    "            .swapaxes(B(\"logs\"), 1, 2, save_to=B(\"logs\"))\n",
    "            .array(B(\"logs\"), dtype=np.float32, save_to=B(\"logs\"))\n",
    "            .train_model(\"unet\", B('logs'), B('mask'), fetches='loss',\n",
    "                          save_to=V(\"history\", mode=\"a\"), use_lock=True)\n",
    "           ) << preprocessed_ds.train"
   ]
  },
  {
   "cell_type": "code",
   "execution_count": 25,
   "metadata": {},
   "outputs": [
    {
     "data": {
      "text/plain": [
       "<petroflow.batchflow.batchflow.once_pipeline.OncePipeline at 0x7f407b0f8278>"
      ]
     },
     "execution_count": 25,
     "metadata": {},
     "output_type": "execute_result"
    }
   ],
   "source": [
    "(template_train.before\n",
    ".init_model(\"dynamic\", UNet, name=\"unet\", config=model_config)\n",
    ".init_variable(\"history\", default=[]))"
   ]
  },
  {
   "cell_type": "code",
   "execution_count": 26,
   "metadata": {},
   "outputs": [
    {
     "data": {
      "text/plain": [
       "<petroflow.batchflow.batchflow.once_pipeline.OncePipeline at 0x7f407b0f8240>"
      ]
     },
     "execution_count": 26,
     "metadata": {},
     "output_type": "execute_result"
    }
   ],
   "source": [
    "(template_train.after\n",
    ".save_model('unet', path='model_4class.torch'))"
   ]
  },
  {
   "cell_type": "markdown",
   "metadata": {},
   "source": [
    "Model training:"
   ]
  },
  {
   "cell_type": "code",
   "execution_count": 27,
   "metadata": {},
   "outputs": [
    {
     "name": "stderr",
     "output_type": "stream",
     "text": [
      "100%|██████████| 31000/31000 [18:45<00:00, 27.54it/s]\n"
     ]
    },
    {
     "data": {
      "text/plain": [
       "<petroflow.batchflow.batchflow.pipeline.Pipeline at 0x7f407b0f8390>"
      ]
     },
     "execution_count": 27,
     "metadata": {},
     "output_type": "execute_result"
    }
   ],
   "source": [
    "template_train.run(BATCH_SIZE, n_epochs=N_EPOCHS, bar=True, shuffle=True, drop_last=True)"
   ]
  },
  {
   "cell_type": "markdown",
   "metadata": {},
   "source": [
    "Loss function against the number of epochs:"
   ]
  },
  {
   "cell_type": "code",
   "execution_count": 28,
   "metadata": {},
   "outputs": [
    {
     "data": {
      "text/plain": [
       "[<matplotlib.lines.Line2D at 0x7f407b12ab00>]"
      ]
     },
     "execution_count": 28,
     "metadata": {},
     "output_type": "execute_result"
    },
    {
     "data": {
      "image/png": "[encoded data removed]",
      "text/plain": [
       "<Figure size 432x288 with 1 Axes>"
      ]
     },
     "metadata": {
      "needs_background": "light"
     },
     "output_type": "display_data"
    }
   ],
   "source": [
    "plt.plot(np.array(np.split(np.array(template_train.v('history')[:]), N_EPOCHS)).mean(axis=1))"
   ]
  },
  {
   "cell_type": "markdown",
   "metadata": {},
   "source": [
    "Training loss almost reaches a plateau by the end of the training, meaning that the learning process has converged."
   ]
  },
  {
   "cell_type": "markdown",
   "metadata": {},
   "source": [
    "___\n",
    "## Inference"
   ]
  },
  {
   "cell_type": "markdown",
   "metadata": {},
   "source": [
    "Inference pipeline is similar to a combination of filtering and training pipelines, except adding pipeline variables for further evaluation."
   ]
  },
  {
   "cell_type": "code",
   "execution_count": 29,
   "metadata": {},
   "outputs": [],
   "source": [
    "template_predict = (Pipeline()\n",
    "            .add_namespace(np)\n",
    "            .import_model('unet', template_train)\n",
    "            .update(B(\"mask\"), WS(\"mask\").ravel())\n",
    "            .stack(B(\"mask\"), save_to=B(\"mask\"))        \n",
    "            .update(B(\"logs\"), WS(\"logs\").ravel())\n",
    "            .stack(B(\"logs\"), save_to=B(\"logs\"))\n",
    "            .swapaxes(B(\"logs\"), 1, 2, save_to=B(\"logs\"))\n",
    "            .array(B(\"logs\"), dtype=np.float32, save_to=B(\"logs\"))\n",
    "            .predict_model(\"unet\", B(\"logs\"), fetches=\"labels\", save_to=V(\"pred\", mode=\"e\"))\n",
    "            .update(V(\"logs\", mode=\"e\"), B(\"logs\"))\n",
    "            .update(V(\"true\", mode=\"e\"), WS(\"mask\").ravel())\n",
    ") << preprocessed_ds.test"
   ]
  },
  {
   "cell_type": "code",
   "execution_count": 30,
   "metadata": {},
   "outputs": [
    {
     "data": {
      "text/plain": [
       "<petroflow.batchflow.batchflow.once_pipeline.OncePipeline at 0x7f4078fb2748>"
      ]
     },
     "execution_count": 30,
     "metadata": {},
     "output_type": "execute_result"
    }
   ],
   "source": [
    "(template_predict.before\n",
    " .init_variable(\"true\", default=[])\n",
    " .init_variable(\"pred\", default=[])\n",
    " .init_variable(\"logs\", default=[]))"
   ]
  },
  {
   "cell_type": "code",
   "execution_count": 31,
   "metadata": {},
   "outputs": [
    {
     "name": "stderr",
     "output_type": "stream",
     "text": [
      "100%|██████████| 389/389 [00:03<00:00, 109.81it/s]\n"
     ]
    },
    {
     "data": {
      "text/plain": [
       "<petroflow.batchflow.batchflow.pipeline.Pipeline at 0x7f4078fb28d0>"
      ]
     },
     "execution_count": 31,
     "metadata": {},
     "output_type": "execute_result"
    }
   ],
   "source": [
    "template_predict.run(1, n_epochs=1, bar=True, shuffle=False, drop_last=False)"
   ]
  },
  {
   "cell_type": "markdown",
   "metadata": {},
   "source": [
    "___\n",
    "## Metrics evaluation and results visualization"
   ]
  },
  {
   "cell_type": "markdown",
   "metadata": {},
   "source": [
    "Classification report shows a representation of the main classification metrics on a per-class basis."
   ]
  },
  {
   "cell_type": "code",
   "execution_count": 32,
   "metadata": {},
   "outputs": [],
   "source": [
    "true = np.concatenate(template_predict.v(\"true\"))\n",
    "pred = np.concatenate(template_predict.v(\"pred\"))"
   ]
  },
  {
   "cell_type": "code",
   "execution_count": 33,
   "metadata": {},
   "outputs": [
    {
     "name": "stdout",
     "output_type": "stream",
     "text": [
      "              precision    recall  f1-score   support\n",
      "\n",
      "         0.0       0.64      0.77      0.70     36600\n",
      "         1.0       0.12      0.10      0.11      4650\n",
      "         2.0       0.13      0.07      0.09      8250\n",
      "         3.0       0.15      0.11      0.12      8850\n",
      "\n",
      "    accuracy                           0.52     58350\n",
      "   macro avg       0.26      0.26      0.26     58350\n",
      "weighted avg       0.45      0.52      0.48     58350\n",
      "\n"
     ]
    }
   ],
   "source": [
    "print(classification_report(true, pred))"
   ]
  },
  {
   "cell_type": "markdown",
   "metadata": {},
   "source": [
    "Vizialize true mask, predicted mask and SP log of crop. Use `idx` to choose crop."
   ]
  },
  {
   "cell_type": "code",
   "execution_count": 34,
   "metadata": {},
   "outputs": [],
   "source": [
    "true_crop_mask = template_predict.v(\"true\")\n",
    "pred_crop_mask = template_predict.v(\"pred\")\n",
    "crop_logs = np.concatenate(template_predict.v(\"logs\"))"
   ]
  },
  {
   "cell_type": "code",
   "execution_count": 35,
   "metadata": {},
   "outputs": [
    {
     "data": {
      "image/png": "[encoded data removed]",
      "text/plain": [
       "<Figure size 1080x720 with 3 Axes>"
      ]
     },
     "metadata": {
      "needs_background": "light"
     },
     "output_type": "display_data"
    }
   ],
   "source": [
    "idx = 107  # index of crop\n",
    "\n",
    "tol = 0.1\n",
    "fig, axs = plt.subplots(3, 1, figsize=(15,10))\n",
    "\n",
    "axs[0].plot(pred_crop_mask[idx], color='orange')\n",
    "axs[0].set_xlabel('Predicted')\n",
    "\n",
    "axs[1].plot(true_crop_mask[idx])\n",
    "axs[1].set_xlabel('True')\n",
    "\n",
    "axs[2].plot(crop_logs[idx])\n",
    "axs[2].set_xlabel('Crop SP (scaled)')\n",
    "\n",
    "axs[0].set_ylim(-tol, N_CLASSES + tol)\n",
    "axs[1].set_ylim(-tol, N_CLASSES + tol)\n",
    "# axs[2].set_ylim(0, 1)\n",
    "\n",
    "fig.tight_layout()"
   ]
  },
  {
   "cell_type": "code",
   "execution_count": null,
   "metadata": {},
   "outputs": [],
   "source": []
  }
 ],
 "metadata": {
  "file_extension": ".py",
  "kernelspec": {
   "display_name": "Python 3",
   "language": "python",
   "name": "python3"
  },
  "language_info": {
   "codemirror_mode": {
    "name": "ipython",
    "version": 3
   },
   "file_extension": ".py",
   "mimetype": "text/x-python",
   "name": "python",
   "nbconvert_exporter": "python",
   "pygments_lexer": "ipython3",
   "version": "3.7.4"
  },
  "mimetype": "text/x-python",
  "name": "python",
  "npconvert_exporter": "python",
  "pygments_lexer": "ipython3",
  "version": 3
 },
 "nbformat": 4,
 "nbformat_minor": 2
}
