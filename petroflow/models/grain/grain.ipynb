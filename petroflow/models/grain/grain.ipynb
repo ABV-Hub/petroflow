{
 "cells": [
  {
   "cell_type": "code",
   "execution_count": 1,
   "metadata": {},
   "outputs": [],
   "source": [
    "import os\n",
    "import sys\n",
    "import numpy as np\n",
    "import pandas as pd\n",
    "import glob\n",
    "import matplotlib.pyplot as plt\n",
    "import shutil\n",
    "\n",
    "sys.path.insert(0, os.path.join(\"..\", \"..\", \"..\"))\n",
    "\n",
    "from petroflow import Well, WellBatch, WS, WellDataset\n",
    "from petroflow.batchflow.models.torch import UNet, ResNet18, ResNet34\n",
    "from petroflow.batchflow import Dataset, DatasetIndex, FilesIndex, Pipeline, V, B, action, inbatch_parallel, I, W, F, L, ImagesBatch, R, P"
   ]
  },
  {
   "cell_type": "markdown",
   "metadata": {},
   "source": [
    "Auxilary functions/classes"
   ]
  },
  {
   "cell_type": "code",
   "execution_count": 2,
   "metadata": {},
   "outputs": [],
   "source": [
    "import torch\n",
    "from torch import nn\n",
    "import torch.nn.functional as F\n",
    "\n",
    "class MyWellBatch(WellBatch):    \n",
    "    @action\n",
    "    def create_images_batch(self, core_dl, core_uv, targets):\n",
    "        index = DatasetIndex(len(core_dl))\n",
    "        batch = ImagesBatch(index)\n",
    "        batch = batch.add_components(('core_dl', 'core_uv', 'targets'),\n",
    "                                     (np.array(core_dl).astype(np.uint8),\n",
    "                                      np.array(core_uv).astype(np.uint8),\n",
    "                                      np.array(targets)))\n",
    "        return batch\n",
    "\n",
    "class softCrossEntropy(nn.Module):\n",
    "    def __init__(self, weights=None):\n",
    "        super().__init__()\n",
    "        self.weights = weights\n",
    "        return\n",
    "\n",
    "    def forward(self, inputs, target):\n",
    "        \"\"\"\n",
    "        :param inputs: predictions\n",
    "        :param target: target labels\n",
    "        :return: loss\n",
    "        \"\"\"\n",
    "        log_likelihood = - F.log_softmax(inputs, dim=1)\n",
    "        if self.weights:\n",
    "            log_likelihood *= self.weights\n",
    "        sample_num, class_num = target.shape\n",
    "        loss = torch.sum(torch.mul(log_likelihood, target)) / sample_num\n",
    "\n",
    "        return loss\n",
    "\n",
    "def mydump(iteration):\n",
    "    import pickle\n",
    "    with open('flag', 'wb') as f:\n",
    "        pickle.dump(iteration, f)"
   ]
  },
  {
   "cell_type": "markdown",
   "metadata": {},
   "source": [
    "Constants"
   ]
  },
  {
   "cell_type": "code",
   "execution_count": 3,
   "metadata": {},
   "outputs": [],
   "source": [
    "BATCH_SIZE = 32\n",
    "N_CROPS = 16\n",
    "N_EPOCH = 500\n",
    "LENGTH = 10\n",
    "SHAPE = (6, int(25 * LENGTH), 250)\n",
    "\n",
    "CLASSES = ['GRAVEL', 'SAND', 'ALEURITE', 'PELITE']"
   ]
  },
  {
   "cell_type": "markdown",
   "metadata": {},
   "source": [
    "Filter wells without grain table"
   ]
  },
  {
   "cell_type": "code",
   "execution_count": 4,
   "metadata": {},
   "outputs": [
    {
     "name": "stderr",
     "output_type": "stream",
     "text": [
      "100%|██████████| 34/34 [00:00<00:00, 115.19it/s]\n"
     ]
    }
   ],
   "source": [
    "index = FilesIndex(path='/data/petro_data/data/core_images/core_photo_cm/*', dirs=True)\n",
    "ds = Dataset(index=index, batch_class=MyWellBatch)\n",
    "\n",
    "filter_ppl = (ds.p\n",
    "              .init_variable('wells', default=[])\n",
    "              .has_attr('core_properties')\n",
    "              .update(V('wells', mode='e'), B().indices)\n",
    "              .run(10, n_epochs=1, shuffle=False, bar=True))\n",
    "\n",
    "filtered_index = index.create_subset(filter_ppl.v('wells'))\n",
    "ds = Dataset(index=filtered_index, batch_class=MyWellBatch)\n",
    "ds.split()"
   ]
  },
  {
   "cell_type": "markdown",
   "metadata": {},
   "source": [
    "Compute weights for loss"
   ]
  },
  {
   "cell_type": "code",
   "execution_count": 5,
   "metadata": {},
   "outputs": [],
   "source": [
    "# weights = pd.read_feather('/notebooks/data/september_dataset/grain.feather')[CLASSES].mean() / 100\n",
    "# weights = 1 / weights\n",
    "# weights = np.clip(weights, 0, 20)"
   ]
  },
  {
   "cell_type": "code",
   "execution_count": 6,
   "metadata": {},
   "outputs": [
    {
     "data": {
      "text/html": [
       "<div>\n",
       "<style scoped>\n",
       "    .dataframe tbody tr th:only-of-type {\n",
       "        vertical-align: middle;\n",
       "    }\n",
       "\n",
       "    .dataframe tbody tr th {\n",
       "        vertical-align: top;\n",
       "    }\n",
       "\n",
       "    .dataframe thead th {\n",
       "        text-align: right;\n",
       "    }\n",
       "</style>\n",
       "<table border=\"1\" class=\"dataframe\">\n",
       "  <thead>\n",
       "    <tr style=\"text-align: right;\">\n",
       "      <th></th>\n",
       "      <th>FIELD</th>\n",
       "      <th>WELL</th>\n",
       "      <th>GRAVEL</th>\n",
       "      <th>SAND</th>\n",
       "      <th>ALEURITE</th>\n",
       "      <th>PELITE</th>\n",
       "      <th>LITHOLOGY</th>\n",
       "      <th>LOSS</th>\n",
       "    </tr>\n",
       "    <tr>\n",
       "      <th>DEPTH</th>\n",
       "      <th></th>\n",
       "      <th></th>\n",
       "      <th></th>\n",
       "      <th></th>\n",
       "      <th></th>\n",
       "      <th></th>\n",
       "      <th></th>\n",
       "      <th></th>\n",
       "    </tr>\n",
       "  </thead>\n",
       "  <tbody>\n",
       "    <tr>\n",
       "      <th>379231</th>\n",
       "      <td>Тазовское</td>\n",
       "      <td>83_тазовское</td>\n",
       "      <td>0.0</td>\n",
       "      <td>72.407</td>\n",
       "      <td>17.594</td>\n",
       "      <td>9.999</td>\n",
       "      <td>песчаник  алевролитистый  слабо глинистый  сла...</td>\n",
       "      <td>0.0</td>\n",
       "    </tr>\n",
       "  </tbody>\n",
       "</table>\n",
       "</div>"
      ],
      "text/plain": [
       "            FIELD          WELL  GRAVEL    SAND  ALEURITE  PELITE  \\\n",
       "DEPTH                                                               \n",
       "379231  Тазовское  83_тазовское     0.0  72.407    17.594   9.999   \n",
       "\n",
       "                                                LITHOLOGY  LOSS  \n",
       "DEPTH                                                            \n",
       "379231  песчаник  алевролитистый  слабо глинистый  сла...   0.0  "
      ]
     },
     "execution_count": 6,
     "metadata": {},
     "output_type": "execute_result"
    }
   ],
   "source": [
    "(Well(path=ds.train.index.get_fullpath(ds.train.indices[0]))\n",
    "        .create_segments(src='samples', connected=True)\n",
    "        .create_segments(src='core_properties', length=2 * LENGTH)\n",
    "        .crop(length=LENGTH, step=LENGTH).load_core().iter_level()[0].core_properties\n",
    "       )"
   ]
  },
  {
   "cell_type": "code",
   "execution_count": 7,
   "metadata": {},
   "outputs": [],
   "source": [
    "crops_template = (Pipeline()\n",
    "    .create_segments(src='samples', connected=True)\n",
    "    .create_segments(src='core_properties', length=2 * LENGTH)\n",
    "    .random_crop(length=LENGTH, n_crops=N_CROPS)\n",
    "    .drop_short_segments(LENGTH)\n",
    ")"
   ]
  },
  {
   "cell_type": "code",
   "execution_count": 8,
   "metadata": {},
   "outputs": [],
   "source": [
    "components_template = (Pipeline()\n",
    "    .load_core(pixels_per_cm=25, core_width=10)\n",
    "    .update(B('core'), (WS('core_dl').ravel(), WS('core_uv').ravel()))\n",
    "    .update(B('targets'), WS('core_properties')[CLASSES].mean().values.ravel())\n",
    "    .create_images_batch(B('core')[0], B('core')[1], B('targets'))\n",
    "    .to_pil(src=['core_dl', 'core_uv'], dst=['core_dl', 'core_uv'])\n",
    ")\n",
    "\n",
    "augmentation_template = (Pipeline()\n",
    "    .cutout(shape=P((R(np.arange(100, 200)), R(np.arange(100, 200)))),\n",
    "            origin=P((R('uniform'), R('uniform'))),\n",
    "            color=0, src=['core_dl', 'core_uv'], dst=['core_dl', 'core_uv'])\n",
    ")\n",
    "\n",
    "concat_template = (Pipeline()\n",
    "    .add_namespace(np)\n",
    "    .to_array(src=['core_dl', 'core_uv'], dst=['core_dl', 'core_uv'])\n",
    "    .concatenate((B('core_dl'), B('core_uv')), axis=-1, save_to=B('crops'))\n",
    "    .transpose(B('crops'), axes=(0, 3, 1, 2), save_to=B('crops'))\n",
    "    .nan_to_num(B('crops'), save_to=B('crops'))\n",
    "    .array(B('crops'), dtype='float32', save_to=B('crops'))\n",
    "    .array(B('targets'), dtype='float32', save_to=B('targets'))\n",
    ")\n",
    "\n",
    "model_config = {'initial_block/inputs': 'images',\n",
    "                'inputs/images/shape': SHAPE,\n",
    "                'inputs/labels/classes': 4,\n",
    "                'optimizer': 'Adam',#('SGD', dict(lr=0.01, momentum=0.95)),\n",
    "                'device': 'gpu:1',\n",
    "                'output': 'proba',\n",
    "                'microbatch': N_CROPS,\n",
    "                'loss': softCrossEntropy\n",
    "               }\n",
    "        \n",
    "train_template = (Pipeline()\n",
    "    .init_variable('loss_history', default=[])\n",
    "    .init_model('dynamic', ResNet18, 'model', model_config)\n",
    "    # .mydump(I())\n",
    "    .train_model('model', B('crops'), B('targets') / 100, fetches='loss', save_to=V('loss_history', mode='a'))\n",
    "    \n",
    ")"
   ]
  },
  {
   "cell_type": "code",
   "execution_count": 9,
   "metadata": {},
   "outputs": [],
   "source": [
    "ppl = (crops_template + \n",
    "       components_template +\n",
    "       # augmentation_template @ 0.33 +\n",
    "       concat_template +\n",
    "       train_template\n",
    "      ) << ds.train"
   ]
  },
  {
   "cell_type": "code",
   "execution_count": 10,
   "metadata": {},
   "outputs": [
    {
     "name": "stderr",
     "output_type": "stream",
     "text": [
      "/usr/local/lib/python3.6/dist-packages/pandas/core/frame.py:4117: SettingWithCopyWarning:\n",
      "\n",
      "\n",
      "A value is trying to be set on a copy of a slice from a DataFrame\n",
      "\n",
      "See the caveats in the documentation: http://pandas.pydata.org/pandas-docs/stable/user_guide/indexing.html#returning-a-view-versus-a-copy\n",
      "\n"
     ]
    },
    {
     "data": {
      "text/plain": [
       "<__main__.MyWellBatch at 0x7f627a71e9e8>"
      ]
     },
     "execution_count": 10,
     "metadata": {},
     "output_type": "execute_result"
    }
   ],
   "source": [
    "(crops_template << ds.train).next_batch(BATCH_SIZE)"
   ]
  },
  {
   "cell_type": "code",
   "execution_count": 11,
   "metadata": {},
   "outputs": [],
   "source": [
    "#b = ppl.next_batch(16)\n",
    "#b.crops.shape"
   ]
  },
  {
   "cell_type": "code",
   "execution_count": 12,
   "metadata": {},
   "outputs": [],
   "source": [
    "# plt.figure(figsize=(10, 10))\n",
    "# for i, crop in enumerate(np.array(b.crops_dl)):\n",
    "#     plt.subplot(BATCH_SIZE, N_CROPS, i+1)\n",
    "#     plt.title((\"{:3.0f}, \"*4)[:-2].format(*b.targets[i]))\n",
    "#     plt.imshow(crop / 255)\n",
    "#     plt.xticks([])\n",
    "#     plt.yticks([])"
   ]
  },
  {
   "cell_type": "code",
   "execution_count": 13,
   "metadata": {},
   "outputs": [],
   "source": [
    "# pd.read_feather('/notebooks/data/september_dataset/core_photo/Восточно-Мессояхское/123_восточно-мессояхское/grain.feather')"
   ]
  },
  {
   "cell_type": "code",
   "execution_count": 14,
   "metadata": {},
   "outputs": [
    {
     "name": "stderr",
     "output_type": "stream",
     "text": [
      "1.6116436:   0%|          | 1/3000 [00:32<27:03:41, 32.48s/it]"
     ]
    },
    {
     "data": {
      "text/plain": [
       "<petroflow.batchflow.batchflow.batch_image.ImagesBatch at 0x7f61b6e8ab70>"
      ]
     },
     "execution_count": 14,
     "metadata": {},
     "output_type": "execute_result"
    }
   ],
   "source": [
    "ppl.next_batch(BATCH_SIZE, n_epochs=N_EPOCH, bar=True, shuffle=True,\n",
    "        drop_last=True, bar_desc=W(V('loss_history')[-1]))"
   ]
  },
  {
   "cell_type": "code",
   "execution_count": 15,
   "metadata": {},
   "outputs": [],
   "source": [
    "import pickle\n",
    "# ppl.get_model_by_name('model').save('model.torch')\n",
    "\n",
    "with open('loss', 'wb') as f:\n",
    "    pickle.dump(ppl.get_variable('loss_history'), f)\n",
    "\n",
    "# with open('dataset', 'wb') as f:\n",
    "#     pickle.dump(ds, f)"
   ]
  },
  {
   "cell_type": "code",
   "execution_count": 16,
   "metadata": {},
   "outputs": [],
   "source": [
    "with open('loss', 'rb') as f:\n",
    "    loss = pickle.load(f)"
   ]
  },
  {
   "cell_type": "code",
   "execution_count": 17,
   "metadata": {},
   "outputs": [
    {
     "data": {
      "text/plain": [
       "[<matplotlib.lines.Line2D at 0x7f6260658358>]"
      ]
     },
     "execution_count": 17,
     "metadata": {},
     "output_type": "execute_result"
    },
    {
     "data": {
      "image/png": "[encoded data removed]",
      "text/plain": [
       "<Figure size 432x288 with 1 Axes>"
      ]
     },
     "metadata": {
      "needs_background": "light"
     },
     "output_type": "display_data"
    }
   ],
   "source": [
    "import pandas as pd\n",
    "plt.plot(loss)\n",
    "plt.plot(pd.Series(np.array(loss)).rolling(100).mean())"
   ]
  },
  {
   "cell_type": "code",
   "execution_count": 18,
   "metadata": {},
   "outputs": [],
   "source": [
    "split_test = (Pipeline()\n",
    "    .create_segments(src='samples', connected=True)\n",
    "    .create_segments(src='core_properties', length=2 * LENGTH)\n",
    "    .crop(length=LENGTH, step=LENGTH)\n",
    "    .drop_short_segments(LENGTH)\n",
    "    .init_variable('lithology', default=[])\n",
    "    .update(V('lithology', mode='e'), WS('core_properties').iloc[0].ravel())\n",
    ")\n",
    "\n",
    "\n",
    "test_template = (Pipeline()\n",
    "    .init_variable('predictions', default=[])\n",
    "    .init_model('dynamic', ResNet18, 'model', config={\n",
    "                    'device': 'cpu', 'load/path': 'model.torch'\n",
    "                })\n",
    "    .predict_model('model', B('crops'), fetches='proba', save_to=V('predictions', mode='e')) \n",
    ")"
   ]
  },
  {
   "cell_type": "code",
   "execution_count": 19,
   "metadata": {},
   "outputs": [
    {
     "name": "stderr",
     "output_type": "stream",
     "text": [
      "\n",
      "  0%|          | 0/56 [00:00<?, ?it/s]\u001b[A\n",
      "  2%|▏         | 1/56 [00:11<10:48, 11.80s/it]\u001b[A"
     ]
    },
    {
     "data": {
      "text/plain": [
       "<petroflow.batchflow.batchflow.batch_image.ImagesBatch at 0x7f626064c668>"
      ]
     },
     "execution_count": 19,
     "metadata": {},
     "output_type": "execute_result"
    }
   ],
   "source": [
    "ppl = (split_test + components_template + concat_template + test_template) << ds.test\n",
    "ppl.next_batch(1, n_epochs=1, bar=True)"
   ]
  },
  {
   "cell_type": "code",
   "execution_count": 20,
   "metadata": {},
   "outputs": [],
   "source": [
    "target = pd.concat(ppl.v('lithology'), axis=1).transpose()"
   ]
  },
  {
   "cell_type": "code",
   "execution_count": 21,
   "metadata": {},
   "outputs": [],
   "source": [
    "values = np.array(ppl.v('predictions')) * 100\n",
    "pred = pd.DataFrame({\n",
    "    'GRAVEL_PRED': values[:, 0],\n",
    "    'SAND_PRED': values[:, 1],\n",
    "    'ALEURITE_PRED': values[:, 2],\n",
    "    'CLAY_PRED': values[:, 3]\n",
    "})"
   ]
  },
  {
   "cell_type": "code",
   "execution_count": 22,
   "metadata": {},
   "outputs": [],
   "source": [
    "results = pd.concat([target.reset_index(), pred], axis=1)"
   ]
  },
  {
   "cell_type": "code",
   "execution_count": 23,
   "metadata": {},
   "outputs": [],
   "source": [
    "results['LITHOLOGY'] = results.LITHOLOGY.apply(lambda x: x.split(' ')[0].capitalize())"
   ]
  },
  {
   "cell_type": "code",
   "execution_count": 24,
   "metadata": {},
   "outputs": [
    {
     "data": {
      "text/html": [
       "<div>\n",
       "<style scoped>\n",
       "    .dataframe tbody tr th:only-of-type {\n",
       "        vertical-align: middle;\n",
       "    }\n",
       "\n",
       "    .dataframe tbody tr th {\n",
       "        vertical-align: top;\n",
       "    }\n",
       "\n",
       "    .dataframe thead th {\n",
       "        text-align: right;\n",
       "    }\n",
       "</style>\n",
       "<table border=\"1\" class=\"dataframe\">\n",
       "  <thead>\n",
       "    <tr style=\"text-align: right;\">\n",
       "      <th></th>\n",
       "      <th>index</th>\n",
       "      <th>FIELD</th>\n",
       "      <th>WELL</th>\n",
       "      <th>GRAVEL</th>\n",
       "      <th>SAND</th>\n",
       "      <th>ALEURITE</th>\n",
       "      <th>PELITE</th>\n",
       "      <th>LITHOLOGY</th>\n",
       "      <th>LOSS</th>\n",
       "      <th>GRAVEL_PRED</th>\n",
       "      <th>SAND_PRED</th>\n",
       "      <th>ALEURITE_PRED</th>\n",
       "      <th>CLAY_PRED</th>\n",
       "    </tr>\n",
       "  </thead>\n",
       "  <tbody>\n",
       "    <tr>\n",
       "      <th>0</th>\n",
       "      <td>87990</td>\n",
       "      <td>Восточно-Мессояхское</td>\n",
       "      <td>214_восточно-мессояхское</td>\n",
       "      <td>0</td>\n",
       "      <td>83.582</td>\n",
       "      <td>9.344</td>\n",
       "      <td>7.074</td>\n",
       "      <td>Песчаник</td>\n",
       "      <td>1.42109e-14</td>\n",
       "      <td>70.486794</td>\n",
       "      <td>2.773912</td>\n",
       "      <td>7.580011</td>\n",
       "      <td>19.159296</td>\n",
       "    </tr>\n",
       "    <tr>\n",
       "      <th>1</th>\n",
       "      <td>87990</td>\n",
       "      <td>Восточно-Мессояхское</td>\n",
       "      <td>214_восточно-мессояхское</td>\n",
       "      <td>0</td>\n",
       "      <td>83.582</td>\n",
       "      <td>9.344</td>\n",
       "      <td>7.074</td>\n",
       "      <td>Песчаник</td>\n",
       "      <td>1.42109e-14</td>\n",
       "      <td>71.633125</td>\n",
       "      <td>2.280627</td>\n",
       "      <td>7.268858</td>\n",
       "      <td>18.817387</td>\n",
       "    </tr>\n",
       "    <tr>\n",
       "      <th>2</th>\n",
       "      <td>88011</td>\n",
       "      <td>Восточно-Мессояхское</td>\n",
       "      <td>214_восточно-мессояхское</td>\n",
       "      <td>0</td>\n",
       "      <td>84.039</td>\n",
       "      <td>9.729</td>\n",
       "      <td>6.232</td>\n",
       "      <td>Песчаник</td>\n",
       "      <td>0</td>\n",
       "      <td>72.126488</td>\n",
       "      <td>2.292507</td>\n",
       "      <td>7.029078</td>\n",
       "      <td>18.551926</td>\n",
       "    </tr>\n",
       "    <tr>\n",
       "      <th>3</th>\n",
       "      <td>88011</td>\n",
       "      <td>Восточно-Мессояхское</td>\n",
       "      <td>214_восточно-мессояхское</td>\n",
       "      <td>0</td>\n",
       "      <td>84.039</td>\n",
       "      <td>9.729</td>\n",
       "      <td>6.232</td>\n",
       "      <td>Песчаник</td>\n",
       "      <td>0</td>\n",
       "      <td>72.562073</td>\n",
       "      <td>2.224367</td>\n",
       "      <td>6.825572</td>\n",
       "      <td>18.387991</td>\n",
       "    </tr>\n",
       "    <tr>\n",
       "      <th>4</th>\n",
       "      <td>88026</td>\n",
       "      <td>Восточно-Мессояхское</td>\n",
       "      <td>214_восточно-мессояхское</td>\n",
       "      <td>0</td>\n",
       "      <td>80.896</td>\n",
       "      <td>11.1</td>\n",
       "      <td>8.006</td>\n",
       "      <td>Песчаник</td>\n",
       "      <td>0</td>\n",
       "      <td>71.824959</td>\n",
       "      <td>2.311435</td>\n",
       "      <td>7.245140</td>\n",
       "      <td>18.618467</td>\n",
       "    </tr>\n",
       "    <tr>\n",
       "      <th>...</th>\n",
       "      <td>...</td>\n",
       "      <td>...</td>\n",
       "      <td>...</td>\n",
       "      <td>...</td>\n",
       "      <td>...</td>\n",
       "      <td>...</td>\n",
       "      <td>...</td>\n",
       "      <td>...</td>\n",
       "      <td>...</td>\n",
       "      <td>...</td>\n",
       "      <td>...</td>\n",
       "      <td>...</td>\n",
       "      <td>...</td>\n",
       "    </tr>\n",
       "    <tr>\n",
       "      <th>191</th>\n",
       "      <td>97639</td>\n",
       "      <td>Восточно-Мессояхское</td>\n",
       "      <td>214_восточно-мессояхское</td>\n",
       "      <td>0</td>\n",
       "      <td>56.682</td>\n",
       "      <td>26.329</td>\n",
       "      <td>16.99</td>\n",
       "      <td>Песчаник</td>\n",
       "      <td>0</td>\n",
       "      <td>34.787117</td>\n",
       "      <td>8.660498</td>\n",
       "      <td>30.043396</td>\n",
       "      <td>26.508993</td>\n",
       "    </tr>\n",
       "    <tr>\n",
       "      <th>192</th>\n",
       "      <td>98243</td>\n",
       "      <td>Восточно-Мессояхское</td>\n",
       "      <td>214_восточно-мессояхское</td>\n",
       "      <td>0</td>\n",
       "      <td>45.868</td>\n",
       "      <td>40.218</td>\n",
       "      <td>13.914</td>\n",
       "      <td>Песчаный</td>\n",
       "      <td>0</td>\n",
       "      <td>31.152445</td>\n",
       "      <td>18.516836</td>\n",
       "      <td>24.411850</td>\n",
       "      <td>25.918865</td>\n",
       "    </tr>\n",
       "    <tr>\n",
       "      <th>193</th>\n",
       "      <td>98243</td>\n",
       "      <td>Восточно-Мессояхское</td>\n",
       "      <td>214_восточно-мессояхское</td>\n",
       "      <td>0</td>\n",
       "      <td>45.868</td>\n",
       "      <td>40.218</td>\n",
       "      <td>13.914</td>\n",
       "      <td>Песчаный</td>\n",
       "      <td>0</td>\n",
       "      <td>42.366302</td>\n",
       "      <td>14.811688</td>\n",
       "      <td>24.309027</td>\n",
       "      <td>18.512981</td>\n",
       "    </tr>\n",
       "    <tr>\n",
       "      <th>194</th>\n",
       "      <td>98303</td>\n",
       "      <td>Восточно-Мессояхское</td>\n",
       "      <td>214_восточно-мессояхское</td>\n",
       "      <td>0</td>\n",
       "      <td>71.904</td>\n",
       "      <td>18.542</td>\n",
       "      <td>9.554</td>\n",
       "      <td>Песчаник</td>\n",
       "      <td>0</td>\n",
       "      <td>40.035595</td>\n",
       "      <td>13.332981</td>\n",
       "      <td>26.809238</td>\n",
       "      <td>19.822189</td>\n",
       "    </tr>\n",
       "    <tr>\n",
       "      <th>195</th>\n",
       "      <td>98303</td>\n",
       "      <td>Восточно-Мессояхское</td>\n",
       "      <td>214_восточно-мессояхское</td>\n",
       "      <td>0</td>\n",
       "      <td>71.904</td>\n",
       "      <td>18.542</td>\n",
       "      <td>9.554</td>\n",
       "      <td>Песчаник</td>\n",
       "      <td>0</td>\n",
       "      <td>39.375969</td>\n",
       "      <td>16.054522</td>\n",
       "      <td>26.297834</td>\n",
       "      <td>18.271667</td>\n",
       "    </tr>\n",
       "  </tbody>\n",
       "</table>\n",
       "<p>196 rows × 13 columns</p>\n",
       "</div>"
      ],
      "text/plain": [
       "     index                 FIELD                      WELL GRAVEL    SAND  \\\n",
       "0    87990  Восточно-Мессояхское  214_восточно-мессояхское      0  83.582   \n",
       "1    87990  Восточно-Мессояхское  214_восточно-мессояхское      0  83.582   \n",
       "2    88011  Восточно-Мессояхское  214_восточно-мессояхское      0  84.039   \n",
       "3    88011  Восточно-Мессояхское  214_восточно-мессояхское      0  84.039   \n",
       "4    88026  Восточно-Мессояхское  214_восточно-мессояхское      0  80.896   \n",
       "..     ...                   ...                       ...    ...     ...   \n",
       "191  97639  Восточно-Мессояхское  214_восточно-мессояхское      0  56.682   \n",
       "192  98243  Восточно-Мессояхское  214_восточно-мессояхское      0  45.868   \n",
       "193  98243  Восточно-Мессояхское  214_восточно-мессояхское      0  45.868   \n",
       "194  98303  Восточно-Мессояхское  214_восточно-мессояхское      0  71.904   \n",
       "195  98303  Восточно-Мессояхское  214_восточно-мессояхское      0  71.904   \n",
       "\n",
       "    ALEURITE  PELITE LITHOLOGY         LOSS  GRAVEL_PRED  SAND_PRED  \\\n",
       "0      9.344   7.074  Песчаник  1.42109e-14    70.486794   2.773912   \n",
       "1      9.344   7.074  Песчаник  1.42109e-14    71.633125   2.280627   \n",
       "2      9.729   6.232  Песчаник            0    72.126488   2.292507   \n",
       "3      9.729   6.232  Песчаник            0    72.562073   2.224367   \n",
       "4       11.1   8.006  Песчаник            0    71.824959   2.311435   \n",
       "..       ...     ...       ...          ...          ...        ...   \n",
       "191   26.329   16.99  Песчаник            0    34.787117   8.660498   \n",
       "192   40.218  13.914  Песчаный            0    31.152445  18.516836   \n",
       "193   40.218  13.914  Песчаный            0    42.366302  14.811688   \n",
       "194   18.542   9.554  Песчаник            0    40.035595  13.332981   \n",
       "195   18.542   9.554  Песчаник            0    39.375969  16.054522   \n",
       "\n",
       "     ALEURITE_PRED  CLAY_PRED  \n",
       "0         7.580011  19.159296  \n",
       "1         7.268858  18.817387  \n",
       "2         7.029078  18.551926  \n",
       "3         6.825572  18.387991  \n",
       "4         7.245140  18.618467  \n",
       "..             ...        ...  \n",
       "191      30.043396  26.508993  \n",
       "192      24.411850  25.918865  \n",
       "193      24.309027  18.512981  \n",
       "194      26.809238  19.822189  \n",
       "195      26.297834  18.271667  \n",
       "\n",
       "[196 rows x 13 columns]"
      ]
     },
     "execution_count": 24,
     "metadata": {},
     "output_type": "execute_result"
    }
   ],
   "source": [
    "results"
   ]
  },
  {
   "cell_type": "code",
   "execution_count": 25,
   "metadata": {},
   "outputs": [],
   "source": [
    "classes = ['Песчаник', 'Алевролит', 'Глина']\n",
    "colors = ['r', 'g', 'b', 'y']\n",
    "\n",
    "mask = [np.isin(item, classes) for item in results.LITHOLOGY]"
   ]
  },
  {
   "cell_type": "code",
   "execution_count": 26,
   "metadata": {},
   "outputs": [],
   "source": [
    "# grain.columns[3:7]\n",
    "from sklearn.manifold import TSNE\n",
    "tsne_res = TSNE(n_components=2, n_iter_without_progress=500).fit_transform(results[\n",
    "    ['GRAVEL_PRED', 'SAND_PRED', 'ALEURITE_PRED', 'CLAY_PRED']\n",
    "])"
   ]
  },
  {
   "cell_type": "code",
   "execution_count": 27,
   "metadata": {},
   "outputs": [
    {
     "data": {
      "text/plain": [
       "([], <a list of 0 Text yticklabel objects>)"
      ]
     },
     "execution_count": 27,
     "metadata": {},
     "output_type": "execute_result"
    },
    {
     "data": {
      "image/png": "[encoded data removed]",
      "text/plain": [
       "<Figure size 1080x360 with 1 Axes>"
      ]
     },
     "metadata": {},
     "output_type": "display_data"
    }
   ],
   "source": [
    "import matplotlib.pyplot as plt\n",
    "\n",
    "plt.figure(figsize=(15, 5))\n",
    "\n",
    "for label, color in zip(classes, colors):\n",
    "    plt.scatter(tsne_res[(results.LITHOLOGY == label).values, 0],\n",
    "                tsne_res[(results.LITHOLOGY == label).values, 1], color=color, label=label)\n",
    "\n",
    "plt.title('Данные гранулометрии')\n",
    "plt.legend()\n",
    "plt.xticks([])\n",
    "plt.yticks([])"
   ]
  }
 ],
 "metadata": {
  "kernelspec": {
   "display_name": "Python 3",
   "language": "python",
   "name": "python3"
  },
  "language_info": {
   "codemirror_mode": {
    "name": "ipython",
    "version": 3
   },
   "file_extension": ".py",
   "mimetype": "text/x-python",
   "name": "python",
   "nbconvert_exporter": "python",
   "pygments_lexer": "ipython3",
   "version": "3.6.9"
  }
 },
 "nbformat": 4,
 "nbformat_minor": 4
}
