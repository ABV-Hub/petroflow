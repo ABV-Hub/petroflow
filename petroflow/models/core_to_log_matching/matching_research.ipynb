{
 "cells": [
  {
   "cell_type": "markdown",
   "metadata": {},
   "source": [
    "# Core-to-log matching"
   ]
  },
  {
   "cell_type": "code",
   "execution_count": null,
   "metadata": {},
   "outputs": [],
   "source": [
    "import os\n",
    "import sys\n",
    "\n",
    "sys.path.insert(0, os.path.join(\"..\", \"..\", \"..\"))\n",
    "from petroflow import WellDataset\n",
    "from petroflow.batchflow import Pipeline, C\n",
    "from petroflow.batchflow.research import Research, Option"
   ]
  },
  {
   "cell_type": "code",
   "execution_count": null,
   "metadata": {},
   "outputs": [],
   "source": [
    "DATASET_PATH = \"/Raw_dataset/*\"\n",
    "well_ds = WellDataset(path=DATASET_PATH, dirs=True, sort=True)"
   ]
  },
  {
   "cell_type": "code",
   "execution_count": null,
   "metadata": {},
   "outputs": [],
   "source": [
    "MATCHED_DATASETS_PATH = \"/Matched_dataset/\"\n",
    "WIN_SIZES = [None, 51, 101, 151, 201, 251, 301]\n",
    "\n",
    "grid = Option.product(\n",
    "    Option(\"win_size\", WIN_SIZES),\n",
    "    Option(\"dump_path\", [os.path.join(MATCHED_DATASETS_PATH, str(win_size)) for win_size in WIN_SIZES])\n",
    ")"
   ]
  },
  {
   "cell_type": "code",
   "execution_count": null,
   "metadata": {},
   "outputs": [],
   "source": [
    "matching_modes = [\n",
    "    \"GK ~ core_logs.GK\",\n",
    "    \"DENSITY ~ core_logs.DENSITY\",\n",
    "    \"DENSITY ~ core_properties.DENSITY\",\n",
    "    \"DENSITY ~ core_properties.POROSITY\",\n",
    "    \"DT ~ core_properties.POROSITY\",\n",
    "    \"NKTD ~ core_properties.POROSITY\",\n",
    "]"
   ]
  },
  {
   "cell_type": "code",
   "execution_count": null,
   "metadata": {},
   "outputs": [],
   "source": [
    "matching_pipeline = (Pipeline()\n",
    "    .check_regularity()\n",
    "    .match_core_logs(mode=matching_modes, split_lithology_intervals=False,\n",
    "                     gaussian_win_size=C(\"win_size\"), save_report=False)\n",
    "    .dump(C(\"dump_path\"))\n",
    "    .run(batch_size=4, n_epochs=1, shuffle=False, drop_last=False, lazy=True)\n",
    ")"
   ]
  },
  {
   "cell_type": "code",
   "execution_count": null,
   "metadata": {
    "scrolled": false
   },
   "outputs": [],
   "source": [
    "research = (Research()\n",
    "    .add_pipeline(matching_pipeline, dataset=well_ds, name=\"matching\")\n",
    "    .add_grid(grid)\n",
    ")\n",
    "\n",
    "research.run(name=\"matching_research\", bar=True)"
   ]
  }
 ],
 "metadata": {
  "kernelspec": {
   "display_name": "Python 3",
   "language": "python",
   "name": "python3"
  },
  "language_info": {
   "codemirror_mode": {
    "name": "ipython",
    "version": 3
   },
   "file_extension": ".py",
   "mimetype": "text/x-python",
   "name": "python",
   "nbconvert_exporter": "python",
   "pygments_lexer": "ipython3",
   "version": "3.7.4"
  }
 },
 "nbformat": 4,
 "nbformat_minor": 2
}
