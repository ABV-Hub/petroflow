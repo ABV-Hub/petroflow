{
 "cells": [
  {
   "cell_type": "markdown",
   "metadata": {},
   "source": [
    "# Модель выделения коллекторов"
   ]
  },
  {
   "cell_type": "markdown",
   "metadata": {},
   "source": [
    "## Содержание\n",
    "\n",
    "* [Постановка задачи](#Постановка задачи)\n",
    "* [Датасет](#Датасет)\n",
    "* [Архитектура](#Архитектура)\n",
    "* [Обучение](#Обучение)\n",
    "* [Инференс](#Инференс)\n",
    "* [Оценка модели](#Оценка-модели)\n",
    "* [Краткое резюме](#Краткое-резюме)"
   ]
  },
  {
   "cell_type": "markdown",
   "metadata": {},
   "source": [
    "## Постановка задачи"
   ]
  },
  {
   "cell_type": "markdown",
   "metadata": {},
   "source": [
    "На основании каротажных данных выделить пропластки, являющиеся коллекторами."
   ]
  },
  {
   "cell_type": "markdown",
   "metadata": {},
   "source": [
    "## Датасет"
   ]
  },
  {
   "cell_type": "markdown",
   "metadata": {},
   "source": [
    "Для обучения и оценки качества модели используются каротажи по скважинам месторождения \"Крайнее\".\n",
    "\n",
    "Так как только один каротаж был измерен для всех скважин месторождения, был выделен набор каротажей, одновременно измеренных как минимум для 90% скважин. В него вошло 12 каротажей: CFTC, CILD, GR, GZ1, GZ2, GZ3, GZ4, GZ7, LLD, NKTD, PROX и SP. Этот набор каротажей был измерен для 321 скважины месторождения. Индикатор коллектора был получен из файлов с результатами интерпретации.\n",
    "\n",
    "Полученный датасет был разбит на обучающую и тестовую выборки в соотношении 80:20."
   ]
  },
  {
   "cell_type": "code",
   "execution_count": 1,
   "metadata": {},
   "outputs": [
    {
     "name": "stderr",
     "output_type": "stream",
     "text": [
      "/usr/local/lib/python3.5/dist-packages/h5py/__init__.py:36: FutureWarning: Conversion of the second argument of issubdtype from `float` to `np.floating` is deprecated. In future, it will be treated as `np.float64 == np.dtype(float).type`.\n",
      "  from ._conv import register_converters as _register_converters\n"
     ]
    }
   ],
   "source": [
    "import os\n",
    "import sys\n",
    "from copy import deepcopy\n",
    "from functools import partial\n",
    "sys.path.append(os.path.join(\"..\", \"..\", \"..\"))\n",
    "\n",
    "import numpy as np\n",
    "import tensorflow as tf\n",
    "import matplotlib.pyplot as plt\n",
    "\n",
    "from well_logs import batchflow as bf\n",
    "from well_logs import WellLogsDataset\n",
    "from well_logs.batchflow.models.tf import UNet, VNet\n",
    "from well_logs.batchflow.models.metrics import SegmentationMetricsByPixels"
   ]
  },
  {
   "cell_type": "code",
   "execution_count": 2,
   "metadata": {},
   "outputs": [
    {
     "name": "stdout",
     "output_type": "stream",
     "text": [
      "env: CUDA_VISIBLE_DEVICES=3\n"
     ]
    }
   ],
   "source": [
    "%env CUDA_VISIBLE_DEVICES=3"
   ]
  },
  {
   "cell_type": "code",
   "execution_count": 3,
   "metadata": {},
   "outputs": [],
   "source": [
    "WELL_NPZ_PATH = \"/notebooks/data/geolog/npz/*.npz\"\n",
    "ds = WellLogsDataset(path=WELL_NPZ_PATH, no_ext=True, sort=True)\n",
    "ds.split(0.8, shuffle=True)"
   ]
  },
  {
   "cell_type": "markdown",
   "metadata": {},
   "source": [
    "## Архитектура"
   ]
  },
  {
   "cell_type": "markdown",
   "metadata": {},
   "source": [
    "Для решения задачи используется модель U-Net, общее описание ее архитектуры доступно по ссылке https://analysiscenter.github.io/batchflow/api/batchflow.models.tf.unet.html\n",
    "\n",
    "Модель обучается на кропах длины 256 из исходных каротажей.\n",
    "\n",
    "Выбранная конфигурация модели:\n",
    "* размерность входного слоя - [256, 12]\n",
    "* размерность выходного слоя - [256, 1]\n",
    "* количество фильтров в слоях энкодера и соответствующих им слоях декодера - [12, 12, 16, 16].\n",
    "\n",
    "Задание конфигурации модели:"
   ]
  },
  {
   "cell_type": "code",
   "execution_count": 4,
   "metadata": {},
   "outputs": [],
   "source": [
    "CROP_SIZE = 256\n",
    "\n",
    "gpu_options = tf.GPUOptions(per_process_gpu_memory_fraction=0.8, allow_growth=True)\n",
    "    \n",
    "model_config = {\n",
    "    \"session\": {\"config\": tf.ConfigProto(gpu_options=gpu_options)},\n",
    "    \"initial_block/inputs\": \"x\",\n",
    "    \"head/num_classes\": 1,\n",
    "    \"inputs\": dict(x={\"shape\": (CROP_SIZE, 12)}, \n",
    "                   y={\"name\": \"targets\", \"shape\": (CROP_SIZE, 1)}),\n",
    "    \"body/filters\": [12, 12, 16, 16],\n",
    "    \"body/encoder\": dict(layout=\"cnacna\", kernel_size=3),\n",
    "    \"body/decoder\": dict(layout=\"cnacna\", kernel_size=3),\n",
    "    \"body/upsample\": dict(layout=\"tna\", kernel_size=2, strides=2),\n",
    "    \"head\": dict(layout=\"c\"),\n",
    "    \"loss\": \"bce\",\n",
    "    \"optimizer\": \"Adam\",\n",
    "    \"output\": [\"sigmoid\"],\n",
    "}"
   ]
  },
  {
   "cell_type": "markdown",
   "metadata": {},
   "source": [
    "## Обучение"
   ]
  },
  {
   "cell_type": "markdown",
   "metadata": {},
   "source": [
    "Обучение происходит итерациями по батчам. Итерации состоят из:\n",
    "* генерации очередной порции данных\n",
    "* обновления весов нейронной сети.\n",
    "\n",
    "Для обучения выбран оптимизатор Adam с параметрами по умолчанию:\n",
    "* learning_rate = 0.001\n",
    "* beta1 = 0.9\n",
    "* beta2 = 0.999\n",
    "* epsilon = 1e-08.\n",
    "\n",
    "Функция потерь - бинарная кроссэнтропия.\n",
    "\n",
    "Схема обхода датасета:\n",
    "* размер батча - 32\n",
    "* количество эпох - 200.\n",
    "\n",
    "Описание пайплайна обучения:"
   ]
  },
  {
   "cell_type": "code",
   "execution_count": 5,
   "metadata": {},
   "outputs": [],
   "source": [
    "N_EPOCH = 200\n",
    "BATCH_SIZE = 32"
   ]
  },
  {
   "cell_type": "code",
   "execution_count": 6,
   "metadata": {},
   "outputs": [],
   "source": [
    "def concatenate_batch(batch, model, concat_mask=True):\n",
    "    feed_dict = {\"x\": np.concatenate(batch.logs).swapaxes(1, 2)}\n",
    "    if concat_mask:\n",
    "        feed_dict[\"y\"] = np.concatenate(batch.mask).swapaxes(1, 2)\n",
    "    return {\"feed_dict\": feed_dict}"
   ]
  },
  {
   "cell_type": "code",
   "execution_count": 7,
   "metadata": {},
   "outputs": [],
   "source": [
    "template_train_ppl = (\n",
    "    bf.Pipeline()\n",
    "      .init_model(\"dynamic\", UNet, name=\"unet\", config=model_config)\n",
    "      .init_variable(\"loss_history\", init_on_each_run=list)\n",
    "      .init_variable(\"pred\", init_on_each_run=list)\n",
    "      .load(fmt=\"npz\")\n",
    "      .drop_nans()\n",
    "      .standardize()\n",
    "      .random_split_logs(CROP_SIZE, 4, split_mask=True)\n",
    "      .train_model(\"unet\", make_data=concatenate_batch,\n",
    "                   fetches=[\"loss\", \"sigmoid\"],\n",
    "                   save_to=[bf.V(\"loss_history\"), bf.V(\"pred\")],\n",
    "                   mode=\"a\")\n",
    "      .run(batch_size=BATCH_SIZE, n_epochs=N_EPOCH, shuffle=True, drop_last=True,\n",
    "           lazy=True, bar=True)\n",
    ")"
   ]
  },
  {
   "cell_type": "markdown",
   "metadata": {},
   "source": [
    "Запуск процедуры обучения:"
   ]
  },
  {
   "cell_type": "code",
   "execution_count": 8,
   "metadata": {},
   "outputs": [
    {
     "name": "stderr",
     "output_type": "stream",
     "text": [
      "  0%|          | 0/1600 [00:00<?, ?it/s]"
     ]
    },
    {
     "name": "stdout",
     "output_type": "stream",
     "text": [
      "WARNING:tensorflow:From /usr/local/lib/python3.5/dist-packages/tensorflow/python/util/deprecation.py:497: calling conv1d (from tensorflow.python.ops.nn_ops) with data_format=NHWC is deprecated and will be removed in a future version.\n",
      "Instructions for updating:\n",
      "`NHWC` for data_format is deprecated, use `NWC` instead\n"
     ]
    },
    {
     "name": "stderr",
     "output_type": "stream",
     "text": [
      "100%|██████████| 1600/1600 [10:26<00:00,  2.49it/s]\n"
     ]
    },
    {
     "data": {
      "text/plain": [
       "<well_logs.batchflow.batchflow.pipeline.Pipeline at 0x7f41cb854e48>"
      ]
     },
     "execution_count": 8,
     "metadata": {},
     "output_type": "execute_result"
    }
   ],
   "source": [
    "train_ppl = (ds.train >> template_train_ppl)\n",
    "train_ppl.run()"
   ]
  },
  {
   "cell_type": "markdown",
   "metadata": {},
   "source": [
    "График функции потерь в зависимости от числа эпох:"
   ]
  },
  {
   "cell_type": "code",
   "execution_count": 9,
   "metadata": {},
   "outputs": [
    {
     "data": {
      "image/png": "[encoded data removed]",
      "text/plain": [
       "<Figure size 1080x288 with 1 Axes>"
      ]
     },
     "metadata": {},
     "output_type": "display_data"
    }
   ],
   "source": [
    "train_loss = [np.mean(l) for l in np.array_split(train_ppl.get_variable(\"loss_history\"), N_EPOCH)]\n",
    "\n",
    "fig = plt.figure(figsize=(15, 4))\n",
    "plt.plot(train_loss)\n",
    "plt.xlabel(\"Epochs\")\n",
    "plt.ylabel(\"Training loss\")\n",
    "plt.show()"
   ]
  },
  {
   "cell_type": "markdown",
   "metadata": {},
   "source": [
    "## Инференс"
   ]
  },
  {
   "cell_type": "markdown",
   "metadata": {},
   "source": [
    "Описание вспомогательных функций:"
   ]
  },
  {
   "cell_type": "code",
   "execution_count": 10,
   "metadata": {},
   "outputs": [],
   "source": [
    "def get_shapes(batch, logs):\n",
    "    return [item.shape for item in logs]\n",
    "\n",
    "def _copy(batch, x):\n",
    "    return deepcopy(x)\n",
    "\n",
    "def _concat(batch, x):\n",
    "    return np.concatenate(x).swapaxes(1, 2)"
   ]
  },
  {
   "cell_type": "markdown",
   "metadata": {},
   "source": [
    "Пайплайн для получения сегментации:"
   ]
  },
  {
   "cell_type": "code",
   "execution_count": 11,
   "metadata": {},
   "outputs": [],
   "source": [
    "template_predict_ppl = (\n",
    "    bf.Pipeline()\n",
    "      .import_model(\"unet\", train_ppl)\n",
    "      .init_variable(\"shapes\")\n",
    "      .load(fmt=\"npz\")\n",
    "      .drop_nans()\n",
    "      .standardize()\n",
    "      .update_variable(\"shapes\", bf.F(get_shapes, bf.B(\"logs\")), mode=\"w\")\n",
    "      .split_logs(CROP_SIZE, CROP_SIZE)\n",
    "      .predict_model(\"unet\", make_data=partial(concatenate_batch, concat_mask=False),\n",
    "                     fetches=\"sigmoid\", save_to=bf.B(\"predictions\"), mode=\"w\")\n",
    "      .split_predictions(CROP_SIZE, CROP_SIZE, bf.V(\"shapes\"))\n",
    "      .average_prediction(CROP_SIZE, CROP_SIZE, bf.V(\"shapes\"))\n",
    "      .run(batch_size=1, n_epochs=1, shuffle=False, drop_last=False, lazy=True)\n",
    ")"
   ]
  },
  {
   "cell_type": "markdown",
   "metadata": {},
   "source": [
    "Запуск сегментации:"
   ]
  },
  {
   "cell_type": "code",
   "execution_count": 12,
   "metadata": {},
   "outputs": [],
   "source": [
    "predict_ppl = (ds.test >> template_predict_ppl)\n",
    "batch = predict_ppl.next_batch()"
   ]
  },
  {
   "cell_type": "markdown",
   "metadata": {},
   "source": [
    "Визуализация предсказания модели:"
   ]
  },
  {
   "cell_type": "code",
   "execution_count": 13,
   "metadata": {},
   "outputs": [
    {
     "data": {
      "image/png": "[encoded data removed]",
      "text/plain": [
       "<Figure size 1080x288 with 1 Axes>"
      ]
     },
     "metadata": {},
     "output_type": "display_data"
    }
   ],
   "source": [
    "plt.figure(figsize=(15, 4))\n",
    "plt.plot(batch.mask[0][1000:2230])\n",
    "plt.plot(batch.predictions[0][0][1000:2230])\n",
    "plt.show()"
   ]
  },
  {
   "cell_type": "markdown",
   "metadata": {},
   "source": [
    "## Оценка модели"
   ]
  },
  {
   "cell_type": "markdown",
   "metadata": {},
   "source": [
    "Качество модели определяется средним значением метрики F1-score по непересекающимся кропам из тестового набора данных.\n",
    "\n",
    "Описание процедуры расчета метрики:"
   ]
  },
  {
   "cell_type": "code",
   "execution_count": 14,
   "metadata": {},
   "outputs": [],
   "source": [
    "template_test_ppl = (\n",
    "    bf.Pipeline()\n",
    "      .import_model(\"unet\", train_ppl)\n",
    "      .init_variable(\"pred\", init_on_each_run=list)\n",
    "      .init_variable(\"shapes\")\n",
    "      .init_variable(\"metrics\", init_on_each_run=None)\n",
    "      .init_variable(\"target\")\n",
    "      .init_variable(\"mask\")\n",
    "      .load(fmt=\"npz\")\n",
    "      .drop_nans()\n",
    "      .standardize()\n",
    "      .update_variable(\"shapes\", bf.F(get_shapes, bf.B(\"logs\")), mode=\"w\")\n",
    "      .update_variable(\"target\", bf.F(_copy, bf.B(\"mask\")), mode=\"w\")\n",
    "      .split_logs(CROP_SIZE, CROP_SIZE, split_mask=True)\n",
    "      .predict_model(\"unet\", make_data=concatenate_batch, fetches=\"sigmoid\",\n",
    "                     save_to=bf.V(\"pred\"), mode=\"w\")\n",
    "      .update_variable(\"mask\", bf.F(_concat, bf.B(\"mask\")), mode=\"w\")\n",
    "      .gather_metrics(SegmentationMetricsByPixels, targets=bf.V(\"mask\"),\n",
    "                      predictions=bf.V(\"pred\"), fmt=\"proba\",\n",
    "                      save_to=bf.V(\"metrics\"), mode=\"a\")\n",
    "      .run(batch_size=BATCH_SIZE, n_epochs=1, shuffle=False, drop_last=False,\n",
    "           lazy=True, bar=True)\n",
    ")"
   ]
  },
  {
   "cell_type": "markdown",
   "metadata": {},
   "source": [
    "Запуск расчета метрики:"
   ]
  },
  {
   "cell_type": "code",
   "execution_count": 15,
   "metadata": {},
   "outputs": [
    {
     "name": "stderr",
     "output_type": "stream",
     "text": [
      " 50%|█████     | 1/2 [00:02<00:02,  2.31s/it]\n"
     ]
    },
    {
     "data": {
      "text/plain": [
       "<well_logs.batchflow.batchflow.pipeline.Pipeline at 0x7f41c41dd208>"
      ]
     },
     "execution_count": 15,
     "metadata": {},
     "output_type": "execute_result"
    }
   ],
   "source": [
    "test_ppl = (ds.test >> template_test_ppl)\n",
    "test_ppl.run()"
   ]
  },
  {
   "cell_type": "code",
   "execution_count": 16,
   "metadata": {},
   "outputs": [
    {
     "data": {
      "text/plain": [
       "0.6809257261260147"
      ]
     },
     "execution_count": 16,
     "metadata": {},
     "output_type": "execute_result"
    }
   ],
   "source": [
    "metrics = test_ppl.get_variable(\"metrics\")\n",
    "metrics.evaluate(\"f1_score\")"
   ]
  },
  {
   "cell_type": "markdown",
   "metadata": {},
   "source": [
    "## Краткое резюме"
   ]
  },
  {
   "cell_type": "markdown",
   "metadata": {},
   "source": [
    "На основе каротажных данных месторождения \"Крайнее\" была обучена модель выявления коллекторов. Точность модели по метрике F1-score для класса \"коллектор\" по кропам исходных каротажей составила 0.68."
   ]
  }
 ],
 "metadata": {
  "kernelspec": {
   "display_name": "Python 3",
   "language": "python",
   "name": "python3"
  },
  "language_info": {
   "codemirror_mode": {
    "name": "ipython",
    "version": 3
   },
   "file_extension": ".py",
   "mimetype": "text/x-python",
   "name": "python",
   "nbconvert_exporter": "python",
   "pygments_lexer": "ipython3",
   "version": "3.5.2"
  }
 },
 "nbformat": 4,
 "nbformat_minor": 2
}
