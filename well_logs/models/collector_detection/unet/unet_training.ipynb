{
 "cells": [
  {
   "cell_type": "markdown",
   "metadata": {},
   "source": [
    "# Collector detection model"
   ]
  },
  {
   "cell_type": "markdown",
   "metadata": {},
   "source": [
    "## Content\n",
    "\n",
    "* [Problem description](#Problem-description)\n",
    "* [Dataset](#Dataset)\n",
    "* [Model architecture](#Model-architecture)\n",
    "* [Model training](#Model-training)\n",
    "* [Inference](#Inference)\n",
    "* [Model evaluation](#Model-evaluation)\n",
    "* [Conclusion](#Conclusion)"
   ]
  },
  {
   "cell_type": "markdown",
   "metadata": {},
   "source": [
    "## Problem description"
   ]
  },
  {
   "cell_type": "markdown",
   "metadata": {},
   "source": [
    "Detect interlayers, that are supposed to be collectors, based on well logs data."
   ]
  },
  {
   "cell_type": "markdown",
   "metadata": {},
   "source": [
    "## Dataset"
   ]
  },
  {
   "cell_type": "markdown",
   "metadata": {},
   "source": [
    "The dataset consists of 12 types of logs (CFTC, CILD, GR, GZ1, GZ2, GZ3, GZ4, GZ7, LLD, NKTD, PROX and SP) and a collector mask, measured for 321 wells. It was split into training and testing subsets with an 80:20 ratio."
   ]
  },
  {
   "cell_type": "code",
   "execution_count": 1,
   "metadata": {},
   "outputs": [],
   "source": [
    "import os\n",
    "import sys\n",
    "from copy import deepcopy\n",
    "from functools import partial\n",
    "sys.path.insert(0, os.path.join(\"..\", \"..\", \"..\", \"..\"))\n",
    "\n",
    "import numpy as np\n",
    "import tensorflow as tf\n",
    "import matplotlib.pyplot as plt\n",
    "from sklearn.metrics import f1_score\n",
    "\n",
    "from well_logs import WellLogsDataset\n",
    "from well_logs.batchflow import Pipeline, B, V\n",
    "from well_logs.batchflow.models.tf import UNet\n",
    "from well_logs.batchflow.models.tf.losses import softmax_cross_entropy, dice"
   ]
  },
  {
   "cell_type": "code",
   "execution_count": 2,
   "metadata": {},
   "outputs": [],
   "source": [
    "WELL_NPZ_PATH = \"path/to/npz\"\n",
    "ds = WellLogsDataset(path=WELL_NPZ_PATH, no_ext=True, sort=True)\n",
    "ds.split(0.8, shuffle=42)"
   ]
  },
  {
   "cell_type": "markdown",
   "metadata": {},
   "source": [
    "Logs' statistics calculation for further normalization:"
   ]
  },
  {
   "cell_type": "code",
   "execution_count": 3,
   "metadata": {},
   "outputs": [],
   "source": [
    "def calc_dept_stats(batch):\n",
    "    dept = np.concatenate(batch.dept)\n",
    "    return np.nanmin(dept), np.nanmax(dept)\n",
    "\n",
    "def calc_dept_min_max(dept_stats):\n",
    "    dept_stats = np.array(dept_stats).T\n",
    "    return np.nanmin(dept_stats[0]), np.nanmax(dept_stats[1])\n",
    "\n",
    "def calc_logs_stats(batch):\n",
    "    logs = np.concatenate(batch.logs, axis=1)\n",
    "    logs_len = np.nansum(~np.isnan(logs), axis=-1)\n",
    "    logs_sum = np.nansum(logs, axis=-1)\n",
    "    logs_sum_of_squares = np.nansum(logs**2, axis=-1)\n",
    "    return logs_len, logs_sum, logs_sum_of_squares\n",
    "\n",
    "def calc_logs_mean_std(logs_stats):\n",
    "    logs_len, logs_sum, logs_sum_of_squares = np.nansum(np.stack(logs_stats), axis=0)\n",
    "    mean = logs_sum / logs_len\n",
    "    std = np.sqrt(logs_sum_of_squares / logs_len - mean**2)\n",
    "    return mean, std"
   ]
  },
  {
   "cell_type": "code",
   "execution_count": 4,
   "metadata": {},
   "outputs": [
    {
     "name": "stderr",
     "output_type": "stream",
     "text": [
      " 89%|████████▉ | 8/9 [00:02<00:00,  2.63it/s]\n"
     ]
    }
   ],
   "source": [
    "BATCH_SIZE = 32\n",
    "\n",
    "template_stats_ppl = (Pipeline()\n",
    "    .init_variable(\"dept_stats\", init_on_each_run=list)\n",
    "    .init_variable(\"logs_stats\", init_on_each_run=list)\n",
    "    .load(fmt=\"npz\", components=[\"dept\", \"logs\"])\n",
    "    .call(calc_dept_stats, save_to=V(\"dept_stats\"), mode=\"a\")\n",
    "    .call(calc_logs_stats, save_to=V(\"logs_stats\"), mode=\"a\")\n",
    "    .run(batch_size=BATCH_SIZE, n_epochs=1, shuffle=False, drop_last=False,\n",
    "         lazy=True, bar=True)\n",
    ")\n",
    "\n",
    "stats_ppl = (ds.train >> template_stats_ppl).run()\n",
    "dept_min, dept_max = calc_dept_min_max(stats_ppl.get_variable(\"dept_stats\"))\n",
    "logs_mean, logs_std = calc_logs_mean_std(stats_ppl.get_variable(\"logs_stats\"))"
   ]
  },
  {
   "cell_type": "markdown",
   "metadata": {},
   "source": [
    "## Model architecture"
   ]
  },
  {
   "cell_type": "markdown",
   "metadata": {},
   "source": [
    "U-Net model was used to perform required segmentation (https://analysiscenter.github.io/batchflow/api/batchflow.models.tf.unet.html). The model was trained on crops of length 128 from the original logs.\n",
    "\n",
    "Model configuration:\n",
    "* input shape - [128, 13] (12 logs and depth)\n",
    "* output shape - [128, 1]\n",
    "* the number of filters in encoder and corresponding decoder blocks - [32, 32, 64, 64]\n",
    "* each encoder and decoder block has \"cna cna\" layout with a kernel size of 3 and a ReLU activation\n",
    "* downsampling in the encoder is performed by a max pooling operation with a kernel size and a stride of 2\n",
    "* upsampling in the decoder is performed by a transposed convolution with a kernel size and a stride of 2, followed by batch normalization and a ReLU activation.\n",
    "\n",
    "Adam optimizer with default parameters was used for model training. Weighted sum of binary crossentropy and dice coefficient was used as a loss function. \n",
    "\n",
    "Model configuration specification:"
   ]
  },
  {
   "cell_type": "code",
   "execution_count": 5,
   "metadata": {},
   "outputs": [],
   "source": [
    "CROP_SIZE = 128\n",
    "\n",
    "def sigmoid(x):\n",
    "    return tf.sigmoid(x)[..., 0]\n",
    "\n",
    "def loss(labels, logits, alpha=1, beta=2, *args, **kwargs):\n",
    "    bce_loss = alpha * tf.reduce_mean(tf.nn.sigmoid_cross_entropy_with_logits(labels=labels, logits=logits))\n",
    "    dice_loss = beta * dice(labels, logits, loss_collection=None)\n",
    "    loss = bce_loss + dice_loss\n",
    "    tf.losses.add_loss(loss)\n",
    "    return loss\n",
    "\n",
    "model_config = {\n",
    "    \"initial_block/inputs\": \"x\",\n",
    "    \"head/num_classes\": 1,\n",
    "    \"inputs\": dict(x={\"shape\": (CROP_SIZE, 13)}, \n",
    "                   y={\"name\": \"targets\", \"shape\": (CROP_SIZE, 1)}),\n",
    "    \"body/filters\": [32, 32, 64, 64],\n",
    "    \"body/encoder\": dict(layout=\"cnacna\", kernel_size=3),\n",
    "    \"body/decoder\": dict(layout=\"cnacna\", kernel_size=3),\n",
    "    \"body/upsample\": dict(layout=\"tna\", kernel_size=2, strides=2),\n",
    "    \"head\": dict(layout=\"c\"),\n",
    "    \"loss\": loss,\n",
    "    \"optimizer\": \"Adam\",\n",
    "    \"output\": sigmoid,\n",
    "}"
   ]
  },
  {
   "cell_type": "markdown",
   "metadata": {},
   "source": [
    "## Model training"
   ]
  },
  {
   "cell_type": "markdown",
   "metadata": {},
   "source": [
    "The model was trained for 100 epochs with a batch size of 32."
   ]
  },
  {
   "cell_type": "code",
   "execution_count": 6,
   "metadata": {},
   "outputs": [],
   "source": [
    "N_EPOCH = 250\n",
    "BATCH_SIZE = 32"
   ]
  },
  {
   "cell_type": "markdown",
   "metadata": {},
   "source": [
    "Training pipeline specification:"
   ]
  },
  {
   "cell_type": "code",
   "execution_count": 7,
   "metadata": {},
   "outputs": [],
   "source": [
    "def concatenate_batch(batch, model, concat_mask=True):\n",
    "    dept = np.concatenate(batch.dept)[..., np.newaxis]\n",
    "    logs = np.concatenate(batch.logs).swapaxes(1, 2)\n",
    "    feed_dict = {\"x\": np.concatenate([dept, logs], axis=-1)}\n",
    "    if concat_mask:\n",
    "        feed_dict[\"y\"] = np.concatenate(batch.mask)[..., np.newaxis]\n",
    "    return {\"feed_dict\": feed_dict}"
   ]
  },
  {
   "cell_type": "code",
   "execution_count": 8,
   "metadata": {},
   "outputs": [],
   "source": [
    "template_train_ppl = (Pipeline()\n",
    "    .init_model(\"dynamic\", UNet, name=\"unet\", config=model_config)\n",
    "    .init_variable(\"loss_history\", init_on_each_run=list)\n",
    "    .add_components(\"mask\", B(\"array_of_nones\"))\n",
    "    .load(fmt=\"npz\", components=[\"dept\", \"logs\", \"mask\"])\n",
    "    .norm_mean_std(mean=logs_mean, std=logs_std, components=\"logs\")\n",
    "    .norm_min_max(min=dept_min, max=dept_max, components=\"dept\")\n",
    "    .drop_nans(components_to_split=\"mask\")\n",
    "    .random_crop(CROP_SIZE, n_crops=4, components=[\"dept\", \"logs\", \"mask\"])\n",
    "    .train_model(\"unet\", make_data=concatenate_batch,\n",
    "                 fetches=\"loss\", save_to=V(\"loss_history\"), mode=\"a\")\n",
    "    .run(batch_size=BATCH_SIZE, n_epochs=N_EPOCH, shuffle=True, drop_last=True,\n",
    "         lazy=True, bar=True)\n",
    ")"
   ]
  },
  {
   "cell_type": "markdown",
   "metadata": {},
   "source": [
    "Model training:"
   ]
  },
  {
   "cell_type": "code",
   "execution_count": 9,
   "metadata": {
    "scrolled": true
   },
   "outputs": [
    {
     "name": "stderr",
     "output_type": "stream",
     "text": [
      "100%|██████████| 2000/2000 [22:45<00:00,  1.62it/s]\n"
     ]
    },
    {
     "data": {
      "text/plain": [
       "<well_logs.batchflow.batchflow.pipeline.Pipeline at 0x7eff7b228668>"
      ]
     },
     "execution_count": 9,
     "metadata": {},
     "output_type": "execute_result"
    }
   ],
   "source": [
    "train_ppl = (ds.train >> template_train_ppl)\n",
    "train_ppl.run()"
   ]
  },
  {
   "cell_type": "markdown",
   "metadata": {},
   "source": [
    "Loss function against the number of epochs:"
   ]
  },
  {
   "cell_type": "code",
   "execution_count": 10,
   "metadata": {},
   "outputs": [
    {
     "data": {
      "image/png": "[encoded data removed]",
      "text/plain": [
       "<Figure size 1080x288 with 1 Axes>"
      ]
     },
     "metadata": {
      "needs_background": "light"
     },
     "output_type": "display_data"
    }
   ],
   "source": [
    "train_loss = [np.mean(l) for l in np.array_split(train_ppl.get_variable(\"loss_history\"), N_EPOCH)]\n",
    "\n",
    "fig = plt.figure(figsize=(15, 4))\n",
    "plt.plot(train_loss)\n",
    "plt.xlabel(\"Epochs\")\n",
    "plt.ylabel(\"Training loss\")\n",
    "plt.show()"
   ]
  },
  {
   "cell_type": "markdown",
   "metadata": {},
   "source": [
    "Training loss almost reaches a plateau by the end of the training, meaning that the learning process has converged."
   ]
  },
  {
   "cell_type": "markdown",
   "metadata": {},
   "source": [
    "## Inference"
   ]
  },
  {
   "cell_type": "markdown",
   "metadata": {},
   "source": [
    "Inference pipeline:"
   ]
  },
  {
   "cell_type": "code",
   "execution_count": 11,
   "metadata": {},
   "outputs": [],
   "source": [
    "template_predict_ppl = (Pipeline()\n",
    "    .import_model(\"unet\", train_ppl)\n",
    "    .add_components([\"mask\", \"pred\"], [B(\"array_of_nones\"), B(\"array_of_nones\")])\n",
    "    .load(fmt=\"npz\", components=[\"dept\", \"logs\", \"mask\"])\n",
    "    .norm_mean_std(mean=logs_mean, std=logs_std, components=\"logs\")\n",
    "    .norm_min_max(min=dept_min, max=dept_max, components=\"dept\")\n",
    "    .drop_nans(components_to_split=\"mask\")\n",
    "    .crop(CROP_SIZE, step=CROP_SIZE // 8, components=[\"dept\", \"logs\"])\n",
    "    .predict_model(\"unet\", make_data=partial(concatenate_batch, concat_mask=False),\n",
    "                   fetches=\"sigmoid\", save_to=B(\"pred\"), mode=\"w\")\n",
    "    .split_by_well(components=\"pred\")\n",
    "    .aggregate(components=\"pred\")\n",
    "    .run(batch_size=1, n_epochs=1, shuffle=False, drop_last=False, lazy=True)\n",
    ")\n",
    "\n",
    "predict_ppl = (ds.test >> template_predict_ppl)"
   ]
  },
  {
   "cell_type": "markdown",
   "metadata": {},
   "source": [
    "Prediction visualization:"
   ]
  },
  {
   "cell_type": "code",
   "execution_count": 12,
   "metadata": {},
   "outputs": [
    {
     "data": {
      "image/png": "[encoded data removed]",
      "text/plain": [
       "<Figure size 1080x288 with 1 Axes>"
      ]
     },
     "metadata": {
      "needs_background": "light"
     },
     "output_type": "display_data"
    }
   ],
   "source": [
    "batch = predict_ppl.next_batch()\n",
    "\n",
    "plt.figure(figsize=(15, 4))\n",
    "plt.plot(batch.mask[0])\n",
    "plt.plot(batch.pred[0])\n",
    "plt.show()"
   ]
  },
  {
   "cell_type": "markdown",
   "metadata": {},
   "source": [
    "## Model evaluation"
   ]
  },
  {
   "cell_type": "markdown",
   "metadata": {},
   "source": [
    "Macro and micro averaged F1-scores for a collector class across the wells were used to measure detection performance.\n",
    "\n",
    "Model evaluation pipeline:"
   ]
  },
  {
   "cell_type": "code",
   "execution_count": 13,
   "metadata": {},
   "outputs": [],
   "source": [
    "template_test_ppl = (Pipeline()\n",
    "    .import_model(\"unet\", train_ppl)\n",
    "    .init_variable(\"mask\", init_on_each_run=list)\n",
    "    .init_variable(\"pred\", init_on_each_run=list)\n",
    "    .add_components([\"mask\", \"pred\"], [B(\"array_of_nones\"), B(\"array_of_nones\")])\n",
    "    .load(fmt=\"npz\", components=[\"dept\", \"logs\", \"mask\"])\n",
    "    .norm_mean_std(mean=logs_mean, std=logs_std, components=\"logs\")\n",
    "    .norm_min_max(min=dept_min, max=dept_max, components=\"dept\")\n",
    "    .drop_nans(components_to_split=\"mask\")\n",
    "    .crop(CROP_SIZE, step=CROP_SIZE // 8, components=[\"dept\", \"logs\"])\n",
    "    .predict_model(\"unet\", make_data=partial(concatenate_batch, concat_mask=False),\n",
    "                   fetches=\"sigmoid\", save_to=B(\"pred\"), mode=\"w\")\n",
    "    .split_by_well(components=\"pred\")\n",
    "    .aggregate(components=\"pred\")\n",
    "    .update_variable(\"mask\", B(\"mask\"), mode=\"a\")\n",
    "    .update_variable(\"pred\", B(\"pred\"), mode=\"a\")\n",
    "    .run(batch_size=BATCH_SIZE, n_epochs=1, shuffle=False, drop_last=False, lazy=True)\n",
    ")\n",
    "\n",
    "test_ppl = (ds.test >> template_test_ppl)"
   ]
  },
  {
   "cell_type": "markdown",
   "metadata": {},
   "source": [
    "Metrics evaluation:"
   ]
  },
  {
   "cell_type": "code",
   "execution_count": 14,
   "metadata": {},
   "outputs": [
    {
     "data": {
      "text/plain": [
       "<well_logs.batchflow.batchflow.pipeline.Pipeline at 0x7efef7303630>"
      ]
     },
     "execution_count": 14,
     "metadata": {},
     "output_type": "execute_result"
    }
   ],
   "source": [
    "test_ppl.run()"
   ]
  },
  {
   "cell_type": "markdown",
   "metadata": {},
   "source": [
    "Macro-averaged F1-score calculation:"
   ]
  },
  {
   "cell_type": "code",
   "execution_count": 15,
   "metadata": {},
   "outputs": [
    {
     "data": {
      "text/plain": [
       "0.6012485030397249"
      ]
     },
     "execution_count": 15,
     "metadata": {},
     "output_type": "execute_result"
    }
   ],
   "source": [
    "mask = sum((arr.tolist() for arr in test_ppl.get_variable(\"mask\")), [])\n",
    "pred = sum((arr.tolist() for arr in test_ppl.get_variable(\"pred\")), [])\n",
    "f1_scores = [f1_score(m, p > 0.5) for m, p in zip(mask, pred)]\n",
    "f1_score_macro = np.mean(f1_scores)\n",
    "f1_score_macro"
   ]
  },
  {
   "cell_type": "markdown",
   "metadata": {},
   "source": [
    "Micro-averaged F1-score calculation:"
   ]
  },
  {
   "cell_type": "code",
   "execution_count": 16,
   "metadata": {},
   "outputs": [
    {
     "data": {
      "text/plain": [
       "0.7156911111755999"
      ]
     },
     "execution_count": 16,
     "metadata": {},
     "output_type": "execute_result"
    }
   ],
   "source": [
    "mask_concat = np.concatenate(mask)\n",
    "pred_concat = np.concatenate(pred)\n",
    "f1_score_micro = f1_score(mask_concat, pred_concat > 0.5)\n",
    "f1_score_micro"
   ]
  },
  {
   "cell_type": "markdown",
   "metadata": {},
   "source": [
    "Best prediction visualization:"
   ]
  },
  {
   "cell_type": "code",
   "execution_count": 17,
   "metadata": {},
   "outputs": [
    {
     "data": {
      "image/png": "[encoded data removed]",
      "text/plain": [
       "<Figure size 1080x288 with 1 Axes>"
      ]
     },
     "metadata": {
      "needs_background": "light"
     },
     "output_type": "display_data"
    }
   ],
   "source": [
    "ix = np.argmax(f1_scores)\n",
    "plt.figure(figsize=(15, 4))\n",
    "plt.plot(mask[ix])\n",
    "plt.plot(pred[ix])\n",
    "plt.show()"
   ]
  },
  {
   "cell_type": "markdown",
   "metadata": {},
   "source": [
    "## Conclusion"
   ]
  },
  {
   "cell_type": "markdown",
   "metadata": {},
   "source": [
    "A model for collector detection was trained on 12 types of well logs with a macro-averaged F1-score for a collector class of 0.6."
   ]
  }
 ],
 "metadata": {
  "kernelspec": {
   "display_name": "Python 3",
   "language": "python",
   "name": "python3"
  },
  "language_info": {
   "codemirror_mode": {
    "name": "ipython",
    "version": 3
   },
   "file_extension": ".py",
   "mimetype": "text/x-python",
   "name": "python",
   "nbconvert_exporter": "python",
   "pygments_lexer": "ipython3",
   "version": "3.6.8"
  }
 },
 "nbformat": 4,
 "nbformat_minor": 2
}
