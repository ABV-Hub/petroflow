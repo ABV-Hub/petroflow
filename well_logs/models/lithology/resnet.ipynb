{
 "cells": [
  {
   "cell_type": "code",
   "execution_count": 1,
   "metadata": {},
   "outputs": [],
   "source": [
    "import os\n",
    "import sys\n",
    "import numpy as np\n",
    "import pandas as pd\n",
    "import pickle\n",
    "from collections import Counter\n",
    "import matplotlib.pyplot as plt\n",
    "sys.path.insert(0, os.path.join(\"..\", \"..\", \"..\"))\n",
    "\n",
    "from well_logs import Well, WellBatch\n",
    "from well_logs.batchflow.models.torch import UNet, ResNet18, ResNet34\n",
    "from well_logs.batchflow import Dataset, FilesIndex, Pipeline, V, B, inbatch_parallel"
   ]
  },
  {
   "cell_type": "code",
   "execution_count": 2,
   "metadata": {},
   "outputs": [],
   "source": [
    "class LithologyUtils:\n",
    "    @classmethod\n",
    "    def get_lithology(self, batch):\n",
    "        segments = []\n",
    "        for well in batch.wells:\n",
    "            segments.extend([segment.core_lithology.FORMATION.values for segment in well.iter_level(level=-1)])\n",
    "        return segments\n",
    "\n",
    "    @classmethod\n",
    "    def get_labels_mapping(self, array, threshold=50):\n",
    "        array = np.concatenate(array)\n",
    "        counter = Counter(array)\n",
    "        name_mapping = {item: item if counter[item] > threshold else 'другое' for item in counter}\n",
    "        label_mapping = {item: i for i, item in enumerate(np.unique(list(name_mapping.values())))}\n",
    "        return {item: label_mapping[name_mapping[item]] for item in name_mapping}\n",
    "    \n",
    "    @classmethod\n",
    "    def get_counter(self, array):\n",
    "        return Counter(np.concatenate(array))\n",
    "        "
   ]
  },
  {
   "cell_type": "code",
   "execution_count": 3,
   "metadata": {},
   "outputs": [],
   "source": [
    "ds = Dataset(index=FilesIndex(path='/notebooks/data/matched_dataset/*', dirs=True), batch_class=WellBatch)"
   ]
  },
  {
   "cell_type": "code",
   "execution_count": 4,
   "metadata": {},
   "outputs": [],
   "source": [
    "ppl_template = (Pipeline()\n",
    "    .add_namespace(LithologyUtils)\n",
    "    .load()\n",
    "    .init_variable('lithology', init_on_each_run=list)\n",
    "    .get_lithology(B(), save_to=V('lithology', mode='e'))\n",
    ")"
   ]
  },
  {
   "cell_type": "code",
   "execution_count": 5,
   "metadata": {},
   "outputs": [],
   "source": [
    "ppl_after = (Pipeline()\n",
    "    .after\n",
    "    .init_variable('counter')\n",
    "    .init_variable('mapping')\n",
    "    .add_namespace(LithologyUtils)\n",
    "    .get_labels_mapping(V('lithology'), save_to=V('mapping'))\n",
    "    .get_counter(V('lithology'), save_to=V('counter'))\n",
    ")"
   ]
  },
  {
   "cell_type": "code",
   "execution_count": 6,
   "metadata": {},
   "outputs": [
    {
     "name": "stderr",
     "output_type": "stream",
     "text": [
      "  0%|          | 0/1 [00:00<?, ?it/s]\n"
     ]
    },
    {
     "data": {
      "text/plain": [
       "<well_logs.batchflow.batchflow.pipeline.Pipeline at 0x7f2893fe72e8>"
      ]
     },
     "execution_count": 6,
     "metadata": {},
     "output_type": "execute_result"
    }
   ],
   "source": [
    "ppl = (ppl_template + ppl_after) << ds\n",
    "ppl.run(10, n_epochs=1, bar=True)"
   ]
  },
  {
   "cell_type": "code",
   "execution_count": 7,
   "metadata": {},
   "outputs": [],
   "source": [
    "labels_mapping = ppl.v('mapping')"
   ]
  },
  {
   "cell_type": "code",
   "execution_count": 8,
   "metadata": {},
   "outputs": [
    {
     "data": {
      "text/plain": [
       "{'алевролит': 0,\n",
       " 'аргиллит': 1,\n",
       " 'глинисто-карбонатная порода': 2,\n",
       " 'глинисто-кремнистая порода': 2,\n",
       " 'кремнисто-карбонатная порода': 2,\n",
       " 'песчаник': 3,\n",
       " 'уголь': 2}"
      ]
     },
     "execution_count": 8,
     "metadata": {},
     "output_type": "execute_result"
    }
   ],
   "source": [
    "labels_mapping"
   ]
  },
  {
   "cell_type": "code",
   "execution_count": 9,
   "metadata": {},
   "outputs": [],
   "source": [
    "reverse_mapping = {value: key for key, value in labels_mapping.items()}"
   ]
  },
  {
   "cell_type": "code",
   "execution_count": 10,
   "metadata": {},
   "outputs": [
    {
     "data": {
      "text/plain": [
       "4"
      ]
     },
     "execution_count": 10,
     "metadata": {},
     "output_type": "execute_result"
    }
   ],
   "source": [
    "len(np.unique(list(labels_mapping.values())))"
   ]
  },
  {
   "cell_type": "code",
   "execution_count": 11,
   "metadata": {},
   "outputs": [],
   "source": [
    "BATCH_SIZE = 1\n",
    "N_EPOCH = 1\n",
    "SHAPE = (6, 50, 50)\n",
    "\n",
    "model_config = {'initial_block/inputs': 'images',\n",
    "                'inputs/images/shape': SHAPE,\n",
    "                'inputs/labels/classes': len(np.unique(list(labels_mapping.values()))),\n",
    "                'initial_block/inputs': 'images',\n",
    "                'optimizer': 'Adam',\n",
    "                'output': 'proba',\n",
    "                'device': 'cpu:0',\n",
    "                'loss': 'ce'}\n",
    "\n",
    "load_template = Pipeline().load()\n",
    "\n",
    "split_template = (Pipeline()\n",
    "    .create_segments(src=['samples', 'core_lithology'], connected=True)\n",
    ")\n",
    "\n",
    "crop_template = (Pipeline()\n",
    "    .add_namespace(np)\n",
    "    .random_crop(0.1, n_crops=8)\n",
    "    .create_mask(src='core_lithology', column='FORMATION', labels=labels_mapping, mode='core')\n",
    "    .get_crops(src=['core_dl', 'core_uv', 'mask'], dst=['crops_dl', 'crops_uv', 'mask'])\n",
    "    .stack(B('crops_uv'), axis=0, save_to=B('crops_uv'))\n",
    "    .stack(B('crops_dl'), axis=0, save_to=B('crops_dl'))\n",
    "    .stack(B('mask'), axis=0, save_to=B('mask'))\n",
    "    .concatenate((B('crops_dl'), B('crops_uv')), axis=-1, save_to=B('crops'))\n",
    "    .transpose(B('crops'), axes=(0, 3, 1, 2), save_to=B('crops'))\n",
    "    #.expand_dims(B('mask'), axis=1, save_to=B('mask'))\n",
    "    .expand_dims(B('mask'), axis=-1, save_to=B('mask'))\n",
    "    .tile(B('mask'), (1, 1, 50), save_to=B('mask'))\n",
    ")\n",
    "\n",
    "class_template = (Pipeline()\n",
    "    .add_namespace(np)\n",
    "    .random_crop(0.1, n_crops=8)\n",
    "    .get_crops(src=['core_dl', 'core_uv'], dst=['crops_dl', 'crops_uv'])\n",
    "    .stack(B('crops_uv'), axis=0, save_to=B('crops_uv'))\n",
    "    .stack(B('crops_dl'), axis=0, save_to=B('crops_dl'))\n",
    "    .call(lambda b: np.array([\n",
    "        labels_mapping[item.core_lithology.FORMATION.values[0]]\n",
    "        for well in b.wells\n",
    "        for item in well.iter_level()\n",
    "    ]), save_to=B('labels'))\n",
    "    #.concatenate(B('labels'), axis=0, save_to=B('labels'))\n",
    "    .concatenate((B('crops_dl'), B('crops_uv')), axis=-1, save_to=B('crops'))\n",
    "    .transpose(B('crops'), axes=(0, 3, 1, 2), save_to=B('crops'))\n",
    "    .nan_to_num(B('crops'), save_to=B('crops'))\n",
    ")\n",
    "\n",
    "train_template = (Pipeline()\n",
    "    .init_variable('loss', init_on_each_run=list)\n",
    "    .init_model('dynamic', ResNet34, 'model', model_config)\n",
    "    .train_model('model', B('crops'), B('labels'), fetches='loss',\n",
    "                 save_to=V('loss', mode='a'))\n",
    ")"
   ]
  },
  {
   "cell_type": "code",
   "execution_count": 12,
   "metadata": {},
   "outputs": [],
   "source": [
    "examples_ppl = (ds.p\n",
    "    .load()\n",
    "    .create_segments(src=['samples', 'core_lithology'], connected=True)\n",
    "    .random_crop(0.1, n_crops=16)\n",
    "    .call(lambda b: [[item.core_lithology.FORMATION.values for item in well.iter_level()] for well in b.wells], save_to=B('lithology'))\n",
    ")"
   ]
  },
  {
   "cell_type": "code",
   "execution_count": null,
   "metadata": {},
   "outputs": [
    {
     "name": "stderr",
     "output_type": "stream",
     "text": [
      "  3%|▎         | 12/450 [01:08<43:46,  6.00s/it]"
     ]
    }
   ],
   "source": [
    "train_ppl = (load_template + split_template + class_template + train_template) << ds\n",
    "train_ppl.run(8, bar=True, n_epochs=400)"
   ]
  },
  {
   "cell_type": "code",
   "execution_count": null,
   "metadata": {},
   "outputs": [],
   "source": [
    "plt.plot(train_ppl.v('loss'))"
   ]
  },
  {
   "cell_type": "code",
   "execution_count": null,
   "metadata": {},
   "outputs": [],
   "source": [
    "train_ppl.get_model_by_name('model').save('resnet16_lithology.torch')\n",
    "\n",
    "with open('loss_lithology', 'wb') as f:\n",
    "    pickle.dump(train_ppl.get_variable('loss'), f)\n",
    "\n",
    "with open('dataset_lithology', 'wb') as f:\n",
    "    pickle.dump(ds, f)"
   ]
  },
  {
   "cell_type": "code",
   "execution_count": null,
   "metadata": {},
   "outputs": [],
   "source": [
    "predict_template = (Pipeline()\n",
    "     .init_variable('proba', init_on_each_run=None)\n",
    "     .init_variable('metrics', init_on_each_run=None)\n",
    "     .init_model('dynamic', ResNet34, 'model', config={\n",
    "                    'device': 'gpu:7', 'load/path': 'resnet16_lithology.torch'\n",
    "                })\n",
    "     .predict_model('model', B('crops'), fetches='proba', save_to=B('proba', mode='w'))\n",
    "     .gather_metrics('class', targets=B('labels'), predictions=B('proba'),\n",
    "                     fmt='proba', axis=-1, save_to=V('metrics', mode='u'))\n",
    ")"
   ]
  },
  {
   "cell_type": "code",
   "execution_count": null,
   "metadata": {},
   "outputs": [],
   "source": [
    "test_ppl = (load_template + split_template + class_template + predict_template) << ds\n",
    "test_ppl.run(8, bar=True, n_epochs=10, drop_last=False)"
   ]
  },
  {
   "cell_type": "code",
   "execution_count": null,
   "metadata": {},
   "outputs": [],
   "source": [
    "metrics = test_ppl.get_variable('metrics')\n",
    "print(metrics._confusion_matrix)\n",
    "\n",
    "for m in ['specificity', 'sensitivity', 'accuracy']:\n",
    "    print(m, ':', metrics.evaluate(m))"
   ]
  },
  {
   "cell_type": "code",
   "execution_count": null,
   "metadata": {},
   "outputs": [],
   "source": [
    "labels_mapping"
   ]
  }
 ],
 "metadata": {
  "kernelspec": {
   "display_name": "Python 3",
   "language": "python",
   "name": "python3"
  },
  "language_info": {
   "codemirror_mode": {
    "name": "ipython",
    "version": 3
   },
   "file_extension": ".py",
   "mimetype": "text/x-python",
   "name": "python",
   "nbconvert_exporter": "python",
   "pygments_lexer": "ipython3",
   "version": "3.5.2"
  }
 },
 "nbformat": 4,
 "nbformat_minor": 4
}
