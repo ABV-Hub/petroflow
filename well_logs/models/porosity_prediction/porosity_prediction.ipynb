{
 "cells": [
  {
   "cell_type": "markdown",
   "metadata": {},
   "source": [
    "# Porosity prediction model"
   ]
  },
  {
   "cell_type": "markdown",
   "metadata": {},
   "source": [
    "## Contents"
   ]
  },
  {
   "cell_type": "markdown",
   "metadata": {},
   "source": [
    "* [Problem description](#Problem-description)\n",
    "* [Dataset](#Dataset)\n",
    "* [Model architecture](#Model-architecture)\n",
    "* [Model training](#Model-training)\n",
    "* [Metrics evaluation](#Metrics-evaluation)\n",
    "    * [Model performance evaluation](#Model-performance-evaluation)\n",
    "    * [Petrophysicist performance evaluation](#Petrophysicist-performance-evaluation)\n",
    "* [Conclusion](#Conclusion)"
   ]
  },
  {
   "cell_type": "markdown",
   "metadata": {},
   "source": [
    "## Problem description"
   ]
  },
  {
   "cell_type": "markdown",
   "metadata": {},
   "source": [
    "Predict formation porosity based on well logs data."
   ]
  },
  {
   "cell_type": "code",
   "execution_count": 1,
   "metadata": {},
   "outputs": [],
   "source": [
    "import os\n",
    "import sys\n",
    "\n",
    "import numpy as np\n",
    "import pandas as pd\n",
    "import matplotlib.pyplot as plt\n",
    "import seaborn as sns\n",
    "import torch\n",
    "import torch.nn as nn\n",
    "\n",
    "sys.path.insert(0, os.path.join(\"..\", \"..\", \"..\"))\n",
    "from well_logs import WellDataset, WS\n",
    "from well_logs.batchflow import Pipeline, B, V\n",
    "from well_logs.batchflow.models.torch import UNet"
   ]
  },
  {
   "cell_type": "code",
   "execution_count": 2,
   "metadata": {},
   "outputs": [],
   "source": [
    "sns.set_style(\"ticks\")"
   ]
  },
  {
   "cell_type": "markdown",
   "metadata": {},
   "source": [
    "## Dataset"
   ]
  },
  {
   "cell_type": "markdown",
   "metadata": {},
   "source": [
    "A datased of 50 wells with performed core-to-log matching is used to predict porosity:"
   ]
  },
  {
   "cell_type": "code",
   "execution_count": 3,
   "metadata": {},
   "outputs": [],
   "source": [
    "MATCHED_DATASET_PATH = \"/home/alexander/Documents/Data/matched_vingapur_dataset/*\"\n",
    "matched_ds = WellDataset(path=MATCHED_DATASET_PATH, dirs=True, sort=True)"
   ]
  },
  {
   "cell_type": "markdown",
   "metadata": {},
   "source": [
    "Only boring sequences, matched with $R^2 > 0.6$ and using modes, given below are kept in the dataset:"
   ]
  },
  {
   "cell_type": "code",
   "execution_count": 4,
   "metadata": {},
   "outputs": [],
   "source": [
    "MATCHING_MODES = [\n",
    "    \"GK ~ core_logs.GK\",\n",
    "    \"DENSITY ~ core_logs.DENSITY\",\n",
    "    \"DENSITY ~ core_properties.DENSITY\",\n",
    "    \"DENSITY ~ core_properties.POROSITY\",\n",
    "    \"DT ~ core_properties.POROSITY\",\n",
    "    \"NKTD ~ core_properties.POROSITY\",\n",
    "]\n",
    "MATCHING_R2_THR = 0.6"
   ]
  },
  {
   "cell_type": "markdown",
   "metadata": {},
   "source": [
    "Porosity is predicted by DENSITY, DT, NKTD, SP and GK logs. Additionally, depth information will be passed to the model."
   ]
  },
  {
   "cell_type": "code",
   "execution_count": 5,
   "metadata": {},
   "outputs": [],
   "source": [
    "LOG_MNEMONICS = [\"DENSITY\", \"DT\", \"NKTD\", \"SP\", \"GK\"]"
   ]
  },
  {
   "cell_type": "markdown",
   "metadata": {},
   "source": [
    "Well logs and core properties dataframes will be resampled to a sampling rate of 1 cm in order to cast them to the same length."
   ]
  },
  {
   "cell_type": "code",
   "execution_count": 6,
   "metadata": {},
   "outputs": [],
   "source": [
    "REINDEXATION_STEP = 0.01"
   ]
  },
  {
   "cell_type": "markdown",
   "metadata": {},
   "source": [
    "The model is trained on crops of length 1.28 m:"
   ]
  },
  {
   "cell_type": "code",
   "execution_count": 7,
   "metadata": {},
   "outputs": [],
   "source": [
    "CROP_LENGTH = 128\n",
    "CROP_LENGTH_M = CROP_LENGTH * REINDEXATION_STEP"
   ]
  },
  {
   "cell_type": "markdown",
   "metadata": {},
   "source": [
    "Dataset filterring:"
   ]
  },
  {
   "cell_type": "code",
   "execution_count": 8,
   "metadata": {},
   "outputs": [],
   "source": [
    "template_filtering_pipeline = (Pipeline()\n",
    "    .keep_logs(LOG_MNEMONICS + [\"KPO\"])\n",
    "    .keep_matched_sequences(mode=MATCHING_MODES, threshold=MATCHING_R2_THR)\n",
    "    .drop_nans()\n",
    "    .drop_short_segments(CROP_LENGTH_M)\n",
    "    .add_depth_log()\n",
    "    .reindex(step=REINDEXATION_STEP, attrs=[\"logs\", \"core_properties\"])\n",
    "    .interpolate(attrs=\"logs\", limit_direction=\"both\")\n",
    ")\n",
    "\n",
    "filtering_pipeline = matched_ds >> template_filtering_pipeline\n",
    "filtered_batch = filtering_pipeline.next_batch(len(matched_ds))"
   ]
  },
  {
   "cell_type": "code",
   "execution_count": 9,
   "metadata": {},
   "outputs": [
    {
     "name": "stdout",
     "output_type": "stream",
     "text": [
      "The number of wells in the filtered dataset: 15\n",
      "The number of boring sequences in the filtered dataset: 63\n"
     ]
    }
   ],
   "source": [
    "n_wells = len(filtered_batch.wells)\n",
    "n_segments = sum(well.n_segments for well in filtered_batch.wells)\n",
    "\n",
    "print(\"The number of wells in the filtered dataset:\", n_wells)\n",
    "print(\"The number of boring sequences in the filtered dataset:\", n_segments)"
   ]
  },
  {
   "cell_type": "markdown",
   "metadata": {},
   "source": [
    "Filtered dataset creation:"
   ]
  },
  {
   "cell_type": "code",
   "execution_count": 10,
   "metadata": {},
   "outputs": [],
   "source": [
    "def build_dataset(batch):\n",
    "    preloaded = ({k: v for k, v in zip(batch.indices, batch.wells)},)\n",
    "    ds = WellDataset(index=batch.index, preloaded=preloaded)\n",
    "    return ds"
   ]
  },
  {
   "cell_type": "code",
   "execution_count": 11,
   "metadata": {},
   "outputs": [],
   "source": [
    "filtered_ds = build_dataset(filtered_batch)\n",
    "filtered_ds.split(0.8, shuffle=123)"
   ]
  },
  {
   "cell_type": "markdown",
   "metadata": {},
   "source": [
    "Filtered dataset is split into training and testing subsets with an 80:20 ratio."
   ]
  },
  {
   "cell_type": "code",
   "execution_count": 12,
   "metadata": {},
   "outputs": [
    {
     "name": "stdout",
     "output_type": "stream",
     "text": [
      "Wells used for model training: 126р, 416по, 507по, 504по, 601по, 318по, 215по, 492по, 611р, 2207ст2, 612р, 615по\n",
      "Wells used for model testing: 501по, 509по, 415по\n"
     ]
    }
   ],
   "source": [
    "train_wells = \", \".join(filtered_ds.train.indices)\n",
    "print(\"Wells used for model training:\", train_wells)\n",
    "\n",
    "test_wells = \", \".join(filtered_ds.test.indices)\n",
    "print(\"Wells used for model testing:\", test_wells)"
   ]
  },
  {
   "cell_type": "markdown",
   "metadata": {},
   "source": [
    "Log quantiles (0.01 and 0.99) are calculated for further normalization:"
   ]
  },
  {
   "cell_type": "code",
   "execution_count": 13,
   "metadata": {},
   "outputs": [],
   "source": [
    "train_batch = (filtered_ds.train\n",
    "    .next_batch(len(filtered_ds.train), shuffle=False, drop_last=False)\n",
    "    .keep_logs(LOG_MNEMONICS + [\"DEPTH\"])\n",
    ")\n",
    "\n",
    "train_logs = pd.concat([seg.logs for well in train_batch.wells for seg in well.iter_level()])\n",
    "q1 = train_logs.quantile(0.01)\n",
    "q99 = train_logs.quantile(0.99)"
   ]
  },
  {
   "cell_type": "markdown",
   "metadata": {},
   "source": [
    "## Model architecture"
   ]
  },
  {
   "cell_type": "markdown",
   "metadata": {},
   "source": [
    "UNet model is used to perform porosity prediction (https://analysiscenter.github.io/batchflow/api/batchflow.models.tf.unet.html).\n",
    "\n",
    "However, instead of predicting porosity itself, the model predicts parameters of the beta distribution over porosity. This is done in order to get model’s confidence in its prediction.\n",
    "\n",
    "Model configuration:\n",
    "* input shape - [6, 128] (5 types of logs and depth)\n",
    "* output shape - [2, 128] - 2 parameters of beta distribution for each sample in the crop\n",
    "* the number of filters in encoder and corresponding decoder blocks - [16, 16, 32, 32]\n",
    "* each encoder and decoder block has \"cna cna\" layout with a kernel size of 3 and a ReLU activation\n",
    "* downsampling in the encoder is performed by a max pooling operation with a kernel size and a stride of 2\n",
    "* upsampling in the decoder is performed by a transposed convolution with a kernel size of 4 and a stride of 2, followed by batch normalization and a ReLU activation.\n",
    "\n",
    "Adam optimizer with default parameters is used for model training. Negative log-likelihood of the beta distribution is used as a loss function.\n",
    "\n",
    "Model configuration specification:"
   ]
  },
  {
   "cell_type": "code",
   "execution_count": 14,
   "metadata": {},
   "outputs": [],
   "source": [
    "class BetaNLLLoss(nn.Module):\n",
    "    def forward(self, pred, true):\n",
    "        not_nan_mask = ~torch.isnan(true)\n",
    "        true = true[not_nan_mask]\n",
    "        alpha = pred[:, :1, :][not_nan_mask]\n",
    "        beta = pred[:, 1:, :][not_nan_mask]\n",
    "        loss = torch.mean(torch.lgamma(alpha) + torch.lgamma(beta) - torch.lgamma(alpha + beta) -\n",
    "                          (alpha - 1) * torch.log(true) - (beta - 1) * torch.log(1 - true))\n",
    "        return loss\n",
    "\n",
    "def porosity(pred):\n",
    "    return (pred[:, 0, :] / pred.sum(dim=1)) * 100\n",
    "\n",
    "model_config = {\n",
    "    \"initial_block/inputs\": \"x\",\n",
    "    \"head/num_classes\": 2,\n",
    "    \"inputs\": dict(x={\"shape\": (len(LOG_MNEMONICS) + 1, CROP_LENGTH)}, \n",
    "                   y={\"name\": \"targets\", \"shape\": (2, CROP_LENGTH)}),\n",
    "    \"body/filters\": [16, 16, 32, 32],\n",
    "    \"body/encoder\": dict(layout=\"cnacna\", kernel_size=3),\n",
    "    \"body/decoder\": dict(layout=\"cnacna\", kernel_size=3),\n",
    "    \"body/upsample\": dict(layout=\"tna\", kernel_size=4, strides=2),\n",
    "    \"head\": dict(layout=\"cnaca\", kernel_size=3, conv=dict(bias=True), activation=[\"relu\", \"softplus\"]),\n",
    "    \"loss\": BetaNLLLoss,\n",
    "    \"output\": porosity,\n",
    "    \"optimizer\": \"Adam\",\n",
    "}"
   ]
  },
  {
   "cell_type": "markdown",
   "metadata": {},
   "source": [
    "## Model training"
   ]
  },
  {
   "cell_type": "markdown",
   "metadata": {},
   "source": [
    "The model is trained for 2500 epochs with a batch size of 4."
   ]
  },
  {
   "cell_type": "code",
   "execution_count": 15,
   "metadata": {},
   "outputs": [],
   "source": [
    "N_EPOCHS = 2500\n",
    "BATCH_SIZE = 4"
   ]
  },
  {
   "cell_type": "markdown",
   "metadata": {},
   "source": [
    "8 crops are sampled from each well in a batch:"
   ]
  },
  {
   "cell_type": "code",
   "execution_count": 16,
   "metadata": {},
   "outputs": [],
   "source": [
    "N_CROPS = 8"
   ]
  },
  {
   "cell_type": "markdown",
   "metadata": {},
   "source": [
    "Training pipeline specification:"
   ]
  },
  {
   "cell_type": "code",
   "execution_count": 17,
   "metadata": {},
   "outputs": [],
   "source": [
    "template_train_pipeline = (Pipeline()\n",
    "    .add_namespace(np)\n",
    "    .init_variable(\"loss\", init_on_each_run=list)\n",
    "    .init_model(\"dynamic\", UNet, \"UNet\", model_config)\n",
    "    .keep_logs(LOG_MNEMONICS + [\"DEPTH\"])\n",
    "    .interpolate(attrs=\"core_properties\", limit=10, limit_area=\"inside\")\n",
    "    .norm_min_max(q1, q99)\n",
    "    .random_crop(CROP_LENGTH_M, N_CROPS)\n",
    "    .update(B(\"logs\"), WS(\"logs\").ravel())\n",
    "    .stack(B(\"logs\"), save_to=B(\"logs\"))\n",
    "    .swapaxes(B(\"logs\"), 1, 2, save_to=B(\"logs\"))\n",
    "    .array(B(\"logs\"), dtype=np.float32, save_to=B(\"logs\"))\n",
    "    .update(B(\"mask\"), WS(\"core_properties\")[\"POROSITY\"].ravel())\n",
    "    .stack(B(\"mask\"), save_to=B(\"mask\"))\n",
    "    .expand_dims(B(\"mask\"), 1, save_to=B(\"mask\"))\n",
    "    .divide(B(\"mask\"), 100, save_to=B(\"mask\"))\n",
    "    .array(B(\"mask\"), dtype=np.float32, save_to=B(\"mask\"))\n",
    "    .train_model(\"UNet\", B(\"logs\"), B(\"mask\"), fetches=\"loss\", save_to=V(\"loss\", mode=\"a\"))\n",
    "    .run(batch_size=BATCH_SIZE, n_epochs=N_EPOCHS, shuffle=True, drop_last=True, bar=True, lazy=True)\n",
    ")\n",
    "\n",
    "train_pipeline = filtered_ds.train >> template_train_pipeline"
   ]
  },
  {
   "cell_type": "markdown",
   "metadata": {},
   "source": [
    "Model training:"
   ]
  },
  {
   "cell_type": "code",
   "execution_count": 18,
   "metadata": {},
   "outputs": [
    {
     "name": "stderr",
     "output_type": "stream",
     "text": [
      "100%|██████████| 7500/7500 [47:15<00:00,  2.71it/s]  \n"
     ]
    },
    {
     "data": {
      "text/plain": [
       "<well_logs.batchflow.batchflow.pipeline.Pipeline at 0x7f5bd8be9690>"
      ]
     },
     "execution_count": 18,
     "metadata": {},
     "output_type": "execute_result"
    }
   ],
   "source": [
    "train_pipeline.run()"
   ]
  },
  {
   "cell_type": "markdown",
   "metadata": {},
   "source": [
    "Loss function against the number of epochs:"
   ]
  },
  {
   "cell_type": "code",
   "execution_count": 19,
   "metadata": {},
   "outputs": [
    {
     "data": {
      "image/png": "[encoded data removed]",
      "text/plain": [
       "<Figure size 1080x288 with 1 Axes>"
      ]
     },
     "metadata": {},
     "output_type": "display_data"
    }
   ],
   "source": [
    "train_loss = [np.mean(l) for l in np.array_split(train_pipeline.v(\"loss\"), N_EPOCHS)]\n",
    "\n",
    "_ = plt.figure(figsize=(15, 4))\n",
    "plt.plot(train_loss)\n",
    "plt.show()"
   ]
  },
  {
   "cell_type": "markdown",
   "metadata": {},
   "source": [
    "Training loss almost reaches a plateau by the end of the training, meaning that the learning process has converged."
   ]
  },
  {
   "cell_type": "markdown",
   "metadata": {},
   "source": [
    "## Metrics evaluation"
   ]
  },
  {
   "cell_type": "markdown",
   "metadata": {},
   "source": [
    "Two metrics are used for model evaluation:\n",
    "* Mean absolute error (MAE)\n",
    "* Share of predictions, having an absolute error less than 2 absolute percent of porosity (ACC)"
   ]
  },
  {
   "cell_type": "code",
   "execution_count": 20,
   "metadata": {},
   "outputs": [],
   "source": [
    "def calc_metrics(kpo_pred, kpo_true):\n",
    "    abs_err = np.abs(kpo_true - kpo_pred)\n",
    "    n_not_nan = np.sum(~np.isnan(abs_err))\n",
    "    print(\"MAE:\", np.nanmean(abs_err))\n",
    "    print(\"ACC:\", np.nansum(abs_err <= 2) / n_not_nan)\n",
    "    plt.hist(abs_err, bins=30)\n",
    "    plt.show()"
   ]
  },
  {
   "cell_type": "markdown",
   "metadata": {},
   "source": [
    "### Model performance evaluation"
   ]
  },
  {
   "cell_type": "markdown",
   "metadata": {},
   "source": [
    "Model evaluation pipeline:"
   ]
  },
  {
   "cell_type": "code",
   "execution_count": 21,
   "metadata": {},
   "outputs": [],
   "source": [
    "template_model_test_pipeline = (Pipeline()\n",
    "    .add_namespace(np)\n",
    "    .init_variable(\"true\", init_on_each_run=list)\n",
    "    .init_variable(\"pred\", init_on_each_run=list)\n",
    "    .import_model(\"UNet\", train_pipeline)\n",
    "    .keep_logs(LOG_MNEMONICS + [\"DEPTH\"])\n",
    "    .norm_min_max(q1, q99)\n",
    "    .crop(CROP_LENGTH_M, CROP_LENGTH_M, drop_last=True)\n",
    "    .update(B(\"logs\"), WS(\"logs\").ravel())\n",
    "    .stack(B(\"logs\"), save_to=B(\"logs\"))\n",
    "    .swapaxes(B(\"logs\"), 1, 2, save_to=B(\"logs\"))\n",
    "    .array(B(\"logs\"), dtype=np.float32, save_to=B(\"logs\"))\n",
    "    .predict_model(\"UNet\", B(\"logs\"), fetches=\"porosity\", save_to=V(\"pred\", mode=\"a\"))\n",
    "    .update(V(\"true\", mode=\"e\"), WS(\"core_properties\")[\"POROSITY\"].ravel())\n",
    "    .run(batch_size=1, n_epochs=1, shuffle=False, drop_last=False, lazy=True)\n",
    ")"
   ]
  },
  {
   "cell_type": "markdown",
   "metadata": {},
   "source": [
    "Metrics evaluation:"
   ]
  },
  {
   "cell_type": "code",
   "execution_count": 27,
   "metadata": {},
   "outputs": [],
   "source": [
    "model_test_pipeline = (filtered_ds.test >> template_model_test_pipeline).run()"
   ]
  },
  {
   "cell_type": "code",
   "execution_count": 28,
   "metadata": {},
   "outputs": [
    {
     "name": "stdout",
     "output_type": "stream",
     "text": [
      "MAE: 2.6755003464852276\n",
      "ACC: 0.4978448275862069\n"
     ]
    },
    {
     "data": {
      "image/png": "[encoded data removed]",
      "text/plain": [
       "<Figure size 432x288 with 1 Axes>"
      ]
     },
     "metadata": {},
     "output_type": "display_data"
    }
   ],
   "source": [
    "true = pd.concat(model_test_pipeline.v(\"true\"))\n",
    "pred = np.concatenate(model_test_pipeline.v(\"pred\")).ravel()\n",
    "calc_metrics(pred, true)"
   ]
  },
  {
   "cell_type": "markdown",
   "metadata": {},
   "source": [
    "### Petrophysicist performance evaluation"
   ]
  },
  {
   "cell_type": "markdown",
   "metadata": {},
   "source": [
    "The same metrics can be used to evaluate performance of petrophysicists using KPO log:"
   ]
  },
  {
   "cell_type": "code",
   "execution_count": 29,
   "metadata": {},
   "outputs": [],
   "source": [
    "template_human_test_pipeline = (Pipeline()\n",
    "    .init_variable(\"true\", init_on_each_run=list)\n",
    "    .init_variable(\"pred\", init_on_each_run=list)\n",
    "    .keep_logs(\"KPO\")\n",
    "    .update(V(\"true\", mode=\"e\"), WS(\"core_properties\")[\"POROSITY\"].ravel())\n",
    "    .update(V(\"pred\", mode=\"e\"), WS(\"logs\")[\"KPO\"].ravel())\n",
    "    .run(batch_size=1, n_epochs=1, shuffle=False, drop_last=False, lazy=True)\n",
    ")\n",
    "\n",
    "human_test_pipeline = (filtered_ds.test >> template_human_test_pipeline).run()"
   ]
  },
  {
   "cell_type": "code",
   "execution_count": 30,
   "metadata": {},
   "outputs": [
    {
     "name": "stdout",
     "output_type": "stream",
     "text": [
      "MAE: 3.8762009407289617\n",
      "ACC: 0.3298538622129436\n"
     ]
    },
    {
     "data": {
      "image/png": "[encoded data removed]",
      "text/plain": [
       "<Figure size 432x288 with 1 Axes>"
      ]
     },
     "metadata": {},
     "output_type": "display_data"
    }
   ],
   "source": [
    "true = pd.concat(human_test_pipeline.v(\"true\"))\n",
    "pred = pd.concat(human_test_pipeline.v(\"pred\"))\n",
    "calc_metrics(pred, true)"
   ]
  },
  {
   "cell_type": "markdown",
   "metadata": {},
   "source": [
    "## Conclusion"
   ]
  },
  {
   "cell_type": "markdown",
   "metadata": {},
   "source": [
    "A model for porosity prediction was trained on DENSITY, DT, NKTD, SP and GK logs from 12 wells. The model was tested on 3 wells, its mean absolute error is 2.68 absolute porosity percent, which is better than petrophysicists' performance by more than 1 absolute percent."
   ]
  }
 ],
 "metadata": {
  "kernelspec": {
   "display_name": "Python 3",
   "language": "python",
   "name": "python3"
  },
  "language_info": {
   "codemirror_mode": {
    "name": "ipython",
    "version": 3
   },
   "file_extension": ".py",
   "mimetype": "text/x-python",
   "name": "python",
   "nbconvert_exporter": "python",
   "pygments_lexer": "ipython3",
   "version": "3.7.4"
  }
 },
 "nbformat": 4,
 "nbformat_minor": 2
}
