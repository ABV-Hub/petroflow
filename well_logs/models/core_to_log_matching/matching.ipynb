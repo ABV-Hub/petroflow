{
 "cells": [
  {
   "cell_type": "markdown",
   "metadata": {},
   "source": [
    "# Core-to-log matching"
   ]
  },
  {
   "cell_type": "markdown",
   "metadata": {},
   "source": [
    "## Contents"
   ]
  },
  {
   "cell_type": "markdown",
   "metadata": {},
   "source": [
    "* [Problem description](#Problem-description)\n",
    "* [Dataset](#Dataset)\n",
    "* [Matching pipeline](#Matching-pipeline)\n",
    "* [Conclusion](#Conclusion)"
   ]
  },
  {
   "cell_type": "markdown",
   "metadata": {},
   "source": [
    "## Problem description"
   ]
  },
  {
   "cell_type": "markdown",
   "metadata": {},
   "source": [
    "Perform core-to-log matching by shifting core samples in order to maximize correlation between well and core logs."
   ]
  },
  {
   "cell_type": "markdown",
   "metadata": {},
   "source": [
    "Shifted core samples must satisfy the following constraints:\n",
    "* Boring intervals constraints:\n",
    "    * boring intervals must be shifted by no more than 5 meters\n",
    "    * boring intervals must not overlap\n",
    "    * the order of boring intervals must remain unchanged\n",
    "    * if several boring intervals are extracted one after another, they must be shifted by the same delta\n",
    "* Lithology intervals constraints (if defined for a well):\n",
    "    * lithology intervals can be moved only inside the corresponding boring interval\n",
    "    * lithology intervals must not overlap\n",
    "    * the order of lithology intervals must remain unchanged"
   ]
  },
  {
   "cell_type": "markdown",
   "metadata": {},
   "source": [
    "## Dataset"
   ]
  },
  {
   "cell_type": "markdown",
   "metadata": {},
   "source": [
    "The algorithm was tested on a dataset of 147 wells:"
   ]
  },
  {
   "cell_type": "code",
   "execution_count": 1,
   "metadata": {},
   "outputs": [],
   "source": [
    "import os\n",
    "import sys\n",
    "\n",
    "sys.path.insert(0, os.path.join(\"..\", \"..\", \"..\"))\n",
    "from well_logs import WellDataset\n",
    "from well_logs.batchflow import Pipeline"
   ]
  },
  {
   "cell_type": "code",
   "execution_count": 2,
   "metadata": {},
   "outputs": [],
   "source": [
    "DATASET_PATH = \"/Raw_dataset/*\"\n",
    "well_ds = WellDataset(path=DATASET_PATH, dirs=True, sort=True)"
   ]
  },
  {
   "cell_type": "markdown",
   "metadata": {},
   "source": [
    "## Matching pipeline"
   ]
  },
  {
   "cell_type": "markdown",
   "metadata": {},
   "source": [
    "Matched wells are saved in the `MATCHED_DATASET_PATH` directory:"
   ]
  },
  {
   "cell_type": "code",
   "execution_count": 3,
   "metadata": {},
   "outputs": [],
   "source": [
    "MATCHED_DATASET_PATH = \"/Matched_dataset/\""
   ]
  },
  {
   "cell_type": "markdown",
   "metadata": {},
   "source": [
    "The following matching mode precedence (from highest to lowest) is used. Each mode is specified as follows: `<well_log> ~ <core_attr>.<core_log>`, where:\n",
    "* `well_log` - mnemonic of a well log to use\n",
    "* `core_attr` - an attribute of a well to get core data from\n",
    "* `core_log` - mnemonic of a core log or property to use"
   ]
  },
  {
   "cell_type": "code",
   "execution_count": 4,
   "metadata": {},
   "outputs": [],
   "source": [
    "matching_modes = [\n",
    "    \"GK ~ core_logs.GK\",\n",
    "    \"DENSITY ~ core_logs.DENSITY\",\n",
    "    \"DENSITY ~ core_properties.DENSITY\",\n",
    "    \"DENSITY ~ core_properties.POROSITY\",\n",
    "    \"DT ~ core_properties.POROSITY\",\n",
    "    \"NKTD ~ core_properties.POROSITY\",\n",
    "]"
   ]
  },
  {
   "cell_type": "markdown",
   "metadata": {},
   "source": [
    "Matching pipeline consists of 3 actions:\n",
    "* check, that well data is consistent\n",
    "* perform core-to-log matching with the given modes and save matching reports for each well\n",
    "* dump matched wells in the `MATCHED_DATASET_PATH` directory"
   ]
  },
  {
   "cell_type": "code",
   "execution_count": 5,
   "metadata": {},
   "outputs": [],
   "source": [
    "matching_pipeline = (Pipeline()\n",
    "    .check_regularity()\n",
    "    .match_core_logs(mode=matching_modes, save_report=True)\n",
    "    .dump(MATCHED_DATASET_PATH)\n",
    "    .run(batch_size=1, n_epochs=1, shuffle=False, drop_last=False, bar=True, lazy=True)\n",
    ")"
   ]
  },
  {
   "cell_type": "code",
   "execution_count": 6,
   "metadata": {
    "scrolled": false
   },
   "outputs": [
    {
     "name": "stderr",
     "output_type": "stream",
     "text": [
      " 34%|███▍      | 50/147 [29:47<43:04, 26.65s/it]   \n"
     ]
    },
    {
     "data": {
      "text/plain": [
       "<well_logs.batchflow.batchflow.pipeline.Pipeline at 0x7fd15346fb10>"
      ]
     },
     "execution_count": 6,
     "metadata": {},
     "output_type": "execute_result"
    }
   ],
   "source": [
    "(well_ds >> matching_pipeline).run()"
   ]
  },
  {
   "cell_type": "markdown",
   "metadata": {},
   "source": [
    "## Conclusion"
   ]
  },
  {
   "cell_type": "markdown",
   "metadata": {},
   "source": [
    "Only 50 of 147 wells were matched by the algorithm, all other wells have inconsistent data."
   ]
  }
 ],
 "metadata": {
  "kernelspec": {
   "display_name": "Python 3",
   "language": "python",
   "name": "python3"
  },
  "language_info": {
   "codemirror_mode": {
    "name": "ipython",
    "version": 3
   },
   "file_extension": ".py",
   "mimetype": "text/x-python",
   "name": "python",
   "nbconvert_exporter": "python",
   "pygments_lexer": "ipython3",
   "version": "3.7.4"
  }
 },
 "nbformat": 4,
 "nbformat_minor": 2
}
