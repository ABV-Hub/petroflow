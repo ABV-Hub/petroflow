{
 "cells": [
  {
   "cell_type": "code",
   "execution_count": 1,
   "metadata": {},
   "outputs": [],
   "source": [
    "import os\n",
    "import sys\n",
    "\n",
    "sys.path.insert(0, os.path.join(\"..\", \"..\", \"..\"))\n",
    "from well_logs import WellDataset\n",
    "from well_logs.batchflow import Pipeline"
   ]
  },
  {
   "cell_type": "code",
   "execution_count": 2,
   "metadata": {},
   "outputs": [],
   "source": [
    "DATASET_PATH = \"/home/alexander/Documents/Data/vingapur_dataset/*\"\n",
    "well_ds = WellDataset(path=DATASET_PATH, dirs=True, sort=True)"
   ]
  },
  {
   "cell_type": "code",
   "execution_count": 3,
   "metadata": {},
   "outputs": [],
   "source": [
    "MATCHED_DATASET_PATH = \"/home/alexander/Documents/Data/matched_vingapur_dataset/\""
   ]
  },
  {
   "cell_type": "code",
   "execution_count": 4,
   "metadata": {},
   "outputs": [],
   "source": [
    "matching_modes = [\n",
    "    \"GK ~ core_logs.GK\",\n",
    "    \"DENSITY ~ core_logs.DENSITY\",\n",
    "    \"DENSITY ~ core_properties.DENSITY\",\n",
    "    \"DENSITY ~ core_properties.POROSITY\",\n",
    "    \"DT ~ core_properties.POROSITY\",\n",
    "    \"NKTD ~ core_properties.POROSITY\",\n",
    "]"
   ]
  },
  {
   "cell_type": "code",
   "execution_count": 5,
   "metadata": {},
   "outputs": [],
   "source": [
    "matching_pipeline = (Pipeline()\n",
    "    .check_regularity()\n",
    "    .match_core_logs(mode=matching_modes, save_report=True)\n",
    "    .dump(MATCHED_DATASET_PATH)\n",
    "    .run(batch_size=1, n_epochs=1, shuffle=False, drop_last=False, bar=True, lazy=True)\n",
    ")"
   ]
  },
  {
   "cell_type": "code",
   "execution_count": 6,
   "metadata": {
    "scrolled": false
   },
   "outputs": [
    {
     "name": "stderr",
     "output_type": "stream",
     "text": [
      " 34%|███▍      | 50/147 [29:47<43:04, 26.65s/it]   \n"
     ]
    },
    {
     "data": {
      "text/plain": [
       "<well_logs.batchflow.batchflow.pipeline.Pipeline at 0x7fd15346fb10>"
      ]
     },
     "execution_count": 6,
     "metadata": {},
     "output_type": "execute_result"
    }
   ],
   "source": [
    "(well_ds >> matching_pipeline).run()"
   ]
  }
 ],
 "metadata": {
  "kernelspec": {
   "display_name": "Python 3",
   "language": "python",
   "name": "python3"
  },
  "language_info": {
   "codemirror_mode": {
    "name": "ipython",
    "version": 3
   },
   "file_extension": ".py",
   "mimetype": "text/x-python",
   "name": "python",
   "nbconvert_exporter": "python",
   "pygments_lexer": "ipython3",
   "version": "3.7.4"
  }
 },
 "nbformat": 4,
 "nbformat_minor": 2
}
